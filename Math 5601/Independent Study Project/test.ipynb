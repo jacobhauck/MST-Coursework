{
 "cells": [
  {
   "cell_type": "code",
   "execution_count": 8,
   "metadata": {},
   "outputs": [],
   "source": [
    "import maxvol\n",
    "import numpy as np\n",
    "\n",
    "a = np.random.random((500, 500))"
   ]
  },
  {
   "cell_type": "code",
   "execution_count": 9,
   "metadata": {},
   "outputs": [],
   "source": [
    "row_indices, col_indices, left, right = maxvol.pseudo_skeleton(a, 10, rtol=1.)"
   ]
  },
  {
   "cell_type": "code",
   "execution_count": 11,
   "metadata": {},
   "outputs": [
    {
     "ename": "TypeError",
     "evalue": "cannot unpack non-iterable NoneType object",
     "output_type": "error",
     "traceback": [
      "\u001b[1;31m---------------------------------------------------------------------------\u001b[0m",
      "\u001b[1;31mTypeError\u001b[0m                                 Traceback (most recent call last)",
      "\u001b[1;32mc:\\Users\\hauck\\Projects\\Coursework\\Math 5601\\Independent Study Project\\test.ipynb Cell 3\u001b[0m line \u001b[0;36m5\n\u001b[0;32m      <a href='vscode-notebook-cell:/c%3A/Users/hauck/Projects/Coursework/Math%205601/Independent%20Study%20Project/test.ipynb#X41sZmlsZQ%3D%3D?line=2'>3</a>\u001b[0m l2_errors_ps, l2_errors_svd \u001b[39m=\u001b[39m [], []\n\u001b[0;32m      <a href='vscode-notebook-cell:/c%3A/Users/hauck/Projects/Coursework/Math%205601/Independent%20Study%20Project/test.ipynb#X41sZmlsZQ%3D%3D?line=3'>4</a>\u001b[0m \u001b[39mfor\u001b[39;00m r \u001b[39min\u001b[39;00m \u001b[39mrange\u001b[39m(\u001b[39m51\u001b[39m, \u001b[39m100\u001b[39m):\n\u001b[1;32m----> <a href='vscode-notebook-cell:/c%3A/Users/hauck/Projects/Coursework/Math%205601/Independent%20Study%20Project/test.ipynb#X41sZmlsZQ%3D%3D?line=4'>5</a>\u001b[0m     row_indices, col_indices, left, right \u001b[39m=\u001b[39m maxvol\u001b[39m.\u001b[39mpseudo_skeleton(a, r, rtol\u001b[39m=\u001b[39m\u001b[39m1.\u001b[39m)\n\u001b[0;32m      <a href='vscode-notebook-cell:/c%3A/Users/hauck/Projects/Coursework/Math%205601/Independent%20Study%20Project/test.ipynb#X41sZmlsZQ%3D%3D?line=5'>6</a>\u001b[0m     l2_errors_ps\u001b[39m.\u001b[39mappend(np\u001b[39m.\u001b[39mmean(np\u001b[39m.\u001b[39msquare(left \u001b[39m@\u001b[39m right \u001b[39m-\u001b[39m a))\u001b[39m*\u001b[39m\u001b[39m*\u001b[39m\u001b[39m.5\u001b[39m)\n\u001b[0;32m      <a href='vscode-notebook-cell:/c%3A/Users/hauck/Projects/Coursework/Math%205601/Independent%20Study%20Project/test.ipynb#X41sZmlsZQ%3D%3D?line=6'>7</a>\u001b[0m     left, right \u001b[39m=\u001b[39m maxvol\u001b[39m.\u001b[39mtruncated_svd(a, r)\n",
      "\u001b[1;31mTypeError\u001b[0m: cannot unpack non-iterable NoneType object"
     ]
    }
   ],
   "source": [
    "import matplotlib.pyplot as plt\n",
    "\n",
    "l2_errors_ps, l2_errors_svd = [], []\n",
    "for r in range(51, 100):\n",
    "    row_indices, col_indices, left, right = maxvol.pseudo_skeleton(a, r, rtol=1.)\n",
    "    l2_errors_ps.append(np.mean(np.square(left @ right - a))**.5)\n",
    "    left, right = maxvol.truncated_svd(a, r)\n",
    "    l2_errors_svd.append(np.mean(np.square(left @ right - a))**.5)\n",
    "plt.plot(l2_errors_ps)\n",
    "plt.plot(l2_errors_svd)\n",
    "plt.show()"
   ]
  },
  {
   "cell_type": "code",
   "execution_count": 30,
   "metadata": {},
   "outputs": [
    {
     "data": {
      "text/plain": [
       "array([48, 33, 18, 16, 34, 24,  6,  8,  2, 30, 35, 46, 23, 19,  0, 47, 22,\n",
       "        1, 42, 44, 15, 20, 38, 10, 13, 32, 31, 26, 25, 41, 36, 11, 45, 21,\n",
       "       27, 17,  7, 49, 40,  5, 29,  3, 14,  9, 37, 12, 43, 39, 28,  4])"
      ]
     },
     "execution_count": 30,
     "metadata": {},
     "output_type": "execute_result"
    }
   ],
   "source": [
    "import scipy\n",
    "scipy.linalg.lu(a, p_indices=True)[0]"
   ]
  },
  {
   "cell_type": "code",
   "execution_count": 28,
   "metadata": {},
   "outputs": [
    {
     "ename": "ValueError",
     "evalue": "attempt to get argmax of an empty sequence",
     "output_type": "error",
     "traceback": [
      "\u001b[1;31m---------------------------------------------------------------------------\u001b[0m",
      "\u001b[1;31mValueError\u001b[0m                                Traceback (most recent call last)",
      "\u001b[1;32mc:\\Users\\hauck\\Projects\\Coursework\\Math 5601\\Independent Study Project\\test.ipynb Cell 3\u001b[0m line \u001b[0;36m1\n\u001b[1;32m----> <a href='vscode-notebook-cell:/c%3A/Users/hauck/Projects/Coursework/Math%205601/Independent%20Study%20Project/test.ipynb#W2sZmlsZQ%3D%3D?line=0'>1</a>\u001b[0m upper_rows \u001b[39m=\u001b[39m maxvol\u001b[39m.\u001b[39;49mmaxvol(a)\n",
      "File \u001b[1;32mc:\\Users\\hauck\\Projects\\Coursework\\Math 5601\\Independent Study Project\\maxvol.py:41\u001b[0m, in \u001b[0;36mmaxvol\u001b[1;34m(a, initial_rows, delta, max_iter)\u001b[0m\n\u001b[0;32m     37\u001b[0m z \u001b[39m=\u001b[39m np\u001b[39m.\u001b[39mlinalg\u001b[39m.\u001b[39msolve(a[submat_rows]\u001b[39m.\u001b[39mT, a[other_rows]\u001b[39m.\u001b[39mT)\u001b[39m.\u001b[39mT\n\u001b[0;32m     39\u001b[0m \u001b[39mfor\u001b[39;00m _ \u001b[39min\u001b[39;00m \u001b[39mrange\u001b[39m(max_iter):\n\u001b[0;32m     40\u001b[0m     \u001b[39m# Get rows to swap by finding the maximum modulus element of z.\u001b[39;00m\n\u001b[1;32m---> 41\u001b[0m     i_rel, j \u001b[39m=\u001b[39m np\u001b[39m.\u001b[39munravel_index(np\u001b[39m.\u001b[39;49margmax(np\u001b[39m.\u001b[39;49mabs(z)), z\u001b[39m.\u001b[39mshape)\n\u001b[0;32m     42\u001b[0m     max_mod_el \u001b[39m=\u001b[39m z[i_rel, j]\n\u001b[0;32m     44\u001b[0m     \u001b[39m# Stop if the current submatrix is delta-dominant.\u001b[39;00m\n",
      "File \u001b[1;32mc:\\Users\\hauck\\AppData\\Local\\Programs\\Python\\Python311\\Lib\\site-packages\\numpy\\core\\fromnumeric.py:1229\u001b[0m, in \u001b[0;36margmax\u001b[1;34m(a, axis, out, keepdims)\u001b[0m\n\u001b[0;32m   1142\u001b[0m \u001b[39m\u001b[39m\u001b[39m\"\"\"\u001b[39;00m\n\u001b[0;32m   1143\u001b[0m \u001b[39mReturns the indices of the maximum values along an axis.\u001b[39;00m\n\u001b[0;32m   1144\u001b[0m \n\u001b[1;32m   (...)\u001b[0m\n\u001b[0;32m   1226\u001b[0m \u001b[39m(2, 1, 4)\u001b[39;00m\n\u001b[0;32m   1227\u001b[0m \u001b[39m\"\"\"\u001b[39;00m\n\u001b[0;32m   1228\u001b[0m kwds \u001b[39m=\u001b[39m {\u001b[39m'\u001b[39m\u001b[39mkeepdims\u001b[39m\u001b[39m'\u001b[39m: keepdims} \u001b[39mif\u001b[39;00m keepdims \u001b[39mis\u001b[39;00m \u001b[39mnot\u001b[39;00m np\u001b[39m.\u001b[39m_NoValue \u001b[39melse\u001b[39;00m {}\n\u001b[1;32m-> 1229\u001b[0m \u001b[39mreturn\u001b[39;00m _wrapfunc(a, \u001b[39m'\u001b[39;49m\u001b[39margmax\u001b[39;49m\u001b[39m'\u001b[39;49m, axis\u001b[39m=\u001b[39;49maxis, out\u001b[39m=\u001b[39;49mout, \u001b[39m*\u001b[39;49m\u001b[39m*\u001b[39;49mkwds)\n",
      "File \u001b[1;32mc:\\Users\\hauck\\AppData\\Local\\Programs\\Python\\Python311\\Lib\\site-packages\\numpy\\core\\fromnumeric.py:59\u001b[0m, in \u001b[0;36m_wrapfunc\u001b[1;34m(obj, method, *args, **kwds)\u001b[0m\n\u001b[0;32m     56\u001b[0m     \u001b[39mreturn\u001b[39;00m _wrapit(obj, method, \u001b[39m*\u001b[39margs, \u001b[39m*\u001b[39m\u001b[39m*\u001b[39mkwds)\n\u001b[0;32m     58\u001b[0m \u001b[39mtry\u001b[39;00m:\n\u001b[1;32m---> 59\u001b[0m     \u001b[39mreturn\u001b[39;00m bound(\u001b[39m*\u001b[39;49margs, \u001b[39m*\u001b[39;49m\u001b[39m*\u001b[39;49mkwds)\n\u001b[0;32m     60\u001b[0m \u001b[39mexcept\u001b[39;00m \u001b[39mTypeError\u001b[39;00m:\n\u001b[0;32m     61\u001b[0m     \u001b[39m# A TypeError occurs if the object does have such a method in its\u001b[39;00m\n\u001b[0;32m     62\u001b[0m     \u001b[39m# class, but its signature is not identical to that of NumPy's. This\u001b[39;00m\n\u001b[1;32m   (...)\u001b[0m\n\u001b[0;32m     66\u001b[0m     \u001b[39m# Call _wrapit from within the except clause to ensure a potential\u001b[39;00m\n\u001b[0;32m     67\u001b[0m     \u001b[39m# exception has a traceback chain.\u001b[39;00m\n\u001b[0;32m     68\u001b[0m     \u001b[39mreturn\u001b[39;00m _wrapit(obj, method, \u001b[39m*\u001b[39margs, \u001b[39m*\u001b[39m\u001b[39m*\u001b[39mkwds)\n",
      "\u001b[1;31mValueError\u001b[0m: attempt to get argmax of an empty sequence"
     ]
    }
   ],
   "source": [
    "upper_rows = maxvol.maxvol(a)"
   ]
  },
  {
   "cell_type": "code",
   "execution_count": 18,
   "metadata": {},
   "outputs": [
    {
     "data": {
      "text/plain": [
       "1.0059273068234056"
      ]
     },
     "execution_count": 18,
     "metadata": {},
     "output_type": "execute_result"
    }
   ],
   "source": [
    "np.max(np.abs(np.linalg.solve(a[upper_rows].T, a.T).T))"
   ]
  },
  {
   "cell_type": "code",
   "execution_count": 13,
   "metadata": {},
   "outputs": [
    {
     "data": {
      "text/plain": [
       "7.188764896473395e+33"
      ]
     },
     "execution_count": 13,
     "metadata": {},
     "output_type": "execute_result"
    }
   ],
   "source": [
    "abs(np.linalg.det(a[upper_rows]))"
   ]
  },
  {
   "cell_type": "code",
   "execution_count": 6,
   "metadata": {},
   "outputs": [],
   "source": [
    "import itertools\n",
    "\n",
    "vols = np.stack([abs(np.linalg.det(a[list(rows)])) for rows in itertools.combinations(range(35), 5)])"
   ]
  },
  {
   "cell_type": "code",
   "execution_count": 7,
   "metadata": {},
   "outputs": [
    {
     "data": {
      "text/plain": [
       "0.9803475623499796"
      ]
     },
     "execution_count": 7,
     "metadata": {},
     "output_type": "execute_result"
    }
   ],
   "source": [
    "vols.max()"
   ]
  },
  {
   "cell_type": "code",
   "execution_count": 8,
   "metadata": {},
   "outputs": [
    {
     "data": {
      "text/plain": [
       "(array([2.46123e+05, 5.40690e+04, 1.61520e+04, 5.43000e+03, 1.91100e+03,\n",
       "        6.58000e+02, 2.06000e+02, 6.30000e+01, 1.70000e+01, 3.00000e+00]),\n",
       " array([5.62548943e-08, 9.80348069e-02, 1.96069557e-01, 2.94104308e-01,\n",
       "        3.92139059e-01, 4.90173809e-01, 5.88208560e-01, 6.86243311e-01,\n",
       "        7.84278061e-01, 8.82312812e-01, 9.80347562e-01]),\n",
       " <BarContainer object of 10 artists>)"
      ]
     },
     "execution_count": 8,
     "metadata": {},
     "output_type": "execute_result"
    },
    {
     "data": {
      "image/png": "[encoded data removed]",
      "text/plain": [
       "<Figure size 640x480 with 1 Axes>"
      ]
     },
     "metadata": {},
     "output_type": "display_data"
    }
   ],
   "source": [
    "import matplotlib.pyplot as plt\n",
    "\n",
    "plt.hist(vols)"
   ]
  },
  {
   "cell_type": "code",
   "execution_count": 21,
   "metadata": {},
   "outputs": [],
   "source": [
    "a = np.random.random((100, 10))\n",
    "q, t = np.linalg.qr(a)"
   ]
  },
  {
   "cell_type": "code",
   "execution_count": 22,
   "metadata": {},
   "outputs": [
    {
     "data": {
      "text/plain": [
       "(100, 10)"
      ]
     },
     "execution_count": 22,
     "metadata": {},
     "output_type": "execute_result"
    }
   ],
   "source": []
  },
  {
   "cell_type": "code",
   "execution_count": 12,
   "metadata": {},
   "outputs": [],
   "source": [
    "a = np.random.random((4,6))"
   ]
  },
  {
   "cell_type": "code",
   "execution_count": 13,
   "metadata": {},
   "outputs": [
    {
     "data": {
      "text/plain": [
       "array([[0.26361287, 0.49643169, 0.4821415 , 0.86379335, 0.55075258,\n",
       "        0.5431032 ],\n",
       "       [0.44984674, 0.70308365, 0.23158761, 0.77748455, 0.18774105,\n",
       "        0.31674204],\n",
       "       [0.29576159, 0.80029583, 0.74097408, 0.55774633, 0.44813672,\n",
       "        0.22080711],\n",
       "       [0.97130625, 0.9832359 , 0.97892594, 0.42591416, 0.99871325,\n",
       "        0.16345896]])"
      ]
     },
     "execution_count": 13,
     "metadata": {},
     "output_type": "execute_result"
    }
   ],
   "source": [
    "a"
   ]
  },
  {
   "cell_type": "code",
   "execution_count": 15,
   "metadata": {},
   "outputs": [],
   "source": [
    "u, d, vt = np.linalg.svd(a)"
   ]
  },
  {
   "cell_type": "code",
   "execution_count": 16,
   "metadata": {},
   "outputs": [],
   "source": [
    "rows = [1, 3]\n",
    "cols = [2, 4]"
   ]
  },
  {
   "cell_type": "code",
   "execution_count": 18,
   "metadata": {},
   "outputs": [
    {
     "data": {
      "text/plain": [
       "array([[0.23158761, 0.18774105],\n",
       "       [0.97892594, 0.99871325]])"
      ]
     },
     "execution_count": 18,
     "metadata": {},
     "output_type": "execute_result"
    }
   ],
   "source": [
    "a[rows][:, cols]"
   ]
  },
  {
   "cell_type": "code",
   "execution_count": 19,
   "metadata": {},
   "outputs": [
    {
     "data": {
      "text/plain": [
       "(4, 4)"
      ]
     },
     "execution_count": 19,
     "metadata": {},
     "output_type": "execute_result"
    }
   ],
   "source": [
    "u.shape"
   ]
  },
  {
   "cell_type": "code",
   "execution_count": 20,
   "metadata": {},
   "outputs": [
    {
     "data": {
      "text/plain": [
       "(6, 6)"
      ]
     },
     "execution_count": 20,
     "metadata": {},
     "output_type": "execute_result"
    }
   ],
   "source": [
    "vt.shape"
   ]
  },
  {
   "cell_type": "code",
   "execution_count": 22,
   "metadata": {},
   "outputs": [],
   "source": [
    "d = np.diag(d)"
   ]
  },
  {
   "cell_type": "code",
   "execution_count": 28,
   "metadata": {},
   "outputs": [
    {
     "data": {
      "text/plain": [
       "array([[0.23158761, 0.18774105],\n",
       "       [0.97892594, 0.99871325]])"
      ]
     },
     "execution_count": 28,
     "metadata": {},
     "output_type": "execute_result"
    }
   ],
   "source": [
    "u[rows] @ d @ vt[:4, cols]"
   ]
  },
  {
   "cell_type": "code",
   "execution_count": 29,
   "metadata": {},
   "outputs": [
    {
     "data": {
      "text/plain": [
       "array([[ 0.21144783, -0.08643629,  0.4821415 , -0.61111361,  0.55075258,\n",
       "        -0.2568019 ],\n",
       "       [ 0.44984674,  0.70308365,  0.23158761,  0.77748455,  0.18774105,\n",
       "         0.31674204],\n",
       "       [ 2.13107476,  3.72850375,  0.74097408,  4.61490099,  0.44813672,\n",
       "         1.88755814],\n",
       "       [ 0.97130625,  0.9832359 ,  0.97892594,  0.42591416,  0.99871325,\n",
       "         0.16345896]])"
      ]
     },
     "execution_count": 29,
     "metadata": {},
     "output_type": "execute_result"
    }
   ],
   "source": [
    "a[:,cols] @ np.linalg.inv(a[rows][:, cols]) @ a[rows]"
   ]
  },
  {
   "cell_type": "code",
   "execution_count": 37,
   "metadata": {},
   "outputs": [
    {
     "data": {
      "text/plain": [
       "array([[ 21.02331673,  -3.9520249 ],\n",
       "       [-20.60678599,   4.87501264]])"
      ]
     },
     "execution_count": 37,
     "metadata": {},
     "output_type": "execute_result"
    }
   ],
   "source": [
    "np.linalg.inv(a[rows][:, cols])"
   ]
  },
  {
   "cell_type": "code",
   "execution_count": 42,
   "metadata": {},
   "outputs": [
    {
     "data": {
      "text/plain": [
       "array([[-1.09174657, -0.18488576],\n",
       "       [-0.98816366,  0.65725037]])"
      ]
     },
     "execution_count": 42,
     "metadata": {},
     "output_type": "execute_result"
    }
   ],
   "source": [
    "vt.T[cols, :4] @ np.linalg.inv(d) @ u[rows].T"
   ]
  },
  {
   "cell_type": "code",
   "execution_count": null,
   "metadata": {},
   "outputs": [],
   "source": []
  }
 ],
 "metadata": {
  "kernelspec": {
   "display_name": "Python 3",
   "language": "python",
   "name": "python3"
  },
  "language_info": {
   "codemirror_mode": {
    "name": "ipython",
    "version": 3
   },
   "file_extension": ".py",
   "mimetype": "text/x-python",
   "name": "python",
   "nbconvert_exporter": "python",
   "pygments_lexer": "ipython3",
   "version": "3.11.4"
  }
 },
 "nbformat": 4,
 "nbformat_minor": 2
}
