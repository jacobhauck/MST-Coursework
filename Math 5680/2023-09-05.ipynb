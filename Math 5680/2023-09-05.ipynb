{
 "cells": [
  {
   "cell_type": "code",
   "execution_count": 7,
   "id": "3a7492a6",
   "metadata": {},
   "outputs": [],
   "source": [
    "import pandas as pd\n",
    "from sklearn.linear_model import LinearRegression\n",
    "\n",
    "data = pd.read_csv('Advertising.csv')\n",
    "x = data.drop(['Unnamed: 0', 'sales'], axis=1)\n",
    "y = data['sales']"
   ]
  },
  {
   "cell_type": "code",
   "execution_count": 9,
   "id": "b27cc433",
   "metadata": {},
   "outputs": [],
   "source": [
    "model = LinearRegression().fit(x, y)"
   ]
  },
  {
   "cell_type": "code",
   "execution_count": 10,
   "id": "45fb8384",
   "metadata": {},
   "outputs": [
    {
     "name": "stdout",
     "output_type": "stream",
     "text": [
      "[ 0.04576465  0.18853002 -0.00103749], 2.9388893694594067\n"
     ]
    }
   ],
   "source": [
    "print(f'{model.coef_}, {model.intercept_}')"
   ]
  },
  {
   "cell_type": "code",
   "execution_count": 11,
   "id": "d500f66f",
   "metadata": {},
   "outputs": [
    {
     "data": {
      "text/plain": [
       "0.8972106381789522"
      ]
     },
     "execution_count": 11,
     "metadata": {},
     "output_type": "execute_result"
    }
   ],
   "source": [
    "model.score(x, y)"
   ]
  },
  {
   "cell_type": "code",
   "execution_count": 18,
   "id": "31edc663",
   "metadata": {},
   "outputs": [],
   "source": [
    "x_mat = np.concatenate([np.ones((len(x), 1)), x], axis=1)"
   ]
  },
  {
   "cell_type": "code",
   "execution_count": 19,
   "id": "7a12619b",
   "metadata": {},
   "outputs": [
    {
     "data": {
      "text/plain": [
       "(200, 4)"
      ]
     },
     "execution_count": 19,
     "metadata": {},
     "output_type": "execute_result"
    }
   ],
   "source": [
    "x_mat.shape"
   ]
  },
  {
   "cell_type": "code",
   "execution_count": 20,
   "id": "847670f5",
   "metadata": {},
   "outputs": [
    {
     "data": {
      "text/plain": [
       "array([ 2.93888937e+00,  4.57646455e-02,  1.88530017e-01, -1.03749304e-03])"
      ]
     },
     "execution_count": 20,
     "metadata": {},
     "output_type": "execute_result"
    }
   ],
   "source": [
    "np.linalg.inv(x_mat.transpose(1, 0) @ x_mat) @ x_mat.transpose(1, 0) @ y"
   ]
  },
  {
   "cell_type": "code",
   "execution_count": 21,
   "id": "ebd8b239",
   "metadata": {},
   "outputs": [],
   "source": [
    "lhs = x_mat.transpose(1, 0) @ x_mat\n",
    "rhs = x_mat.transpose(1, 0) @ y"
   ]
  },
  {
   "cell_type": "code",
   "execution_count": 22,
   "id": "12eeb43d",
   "metadata": {},
   "outputs": [
    {
     "data": {
      "text/plain": [
       "array([[2.00000000e+02, 2.94085000e+04, 4.65280000e+03, 6.11080000e+03],\n",
       "       [2.94085000e+04, 5.79111839e+06, 6.98061980e+05, 9.19625280e+05],\n",
       "       [4.65280000e+03, 6.98061980e+05, 1.52107860e+05, 1.64946550e+05],\n",
       "       [6.11080000e+03, 9.19625280e+05, 1.64946550e+05, 2.81096740e+05]])"
      ]
     },
     "execution_count": 22,
     "metadata": {},
     "output_type": "execute_result"
    }
   ],
   "source": [
    "lhs"
   ]
  },
  {
   "cell_type": "code",
   "execution_count": 23,
   "id": "4c8b0e0c",
   "metadata": {},
   "outputs": [
    {
     "data": {
      "text/plain": [
       "array([  2804.5 , 482108.34,  74126.39,  90851.03])"
      ]
     },
     "execution_count": 23,
     "metadata": {},
     "output_type": "execute_result"
    }
   ],
   "source": [
    "rhs"
   ]
  },
  {
   "cell_type": "code",
   "execution_count": 26,
   "id": "6fc75234",
   "metadata": {},
   "outputs": [],
   "source": [
    "def cramer(a, b):\n",
    "    x = []\n",
    "    d = np.linalg.det(a)\n",
    "    for i in range(len(b)):\n",
    "        a_temp = a.copy()\n",
    "        a_temp[:, i] = b\n",
    "        x.append(np.linalg.det(a_temp) / d)\n",
    "    return x"
   ]
  },
  {
   "cell_type": "code",
   "execution_count": 27,
   "id": "de2e3ae4",
   "metadata": {},
   "outputs": [
    {
     "data": {
      "text/plain": [
       "[2.9388893694594564,\n",
       " 0.045764645455397684,\n",
       " 0.1885300169182058,\n",
       " -0.0010374930424762781]"
      ]
     },
     "execution_count": 27,
     "metadata": {},
     "output_type": "execute_result"
    }
   ],
   "source": [
    "cramer(lhs, rhs)"
   ]
  },
  {
   "cell_type": "markdown",
   "id": "cce5bffb",
   "metadata": {},
   "source": [
    "1. Loss function used in `LinearRegression`? Other possibilities?\n",
    "2. Optimization method used in `LinearRegression` by default? Other possibilities?\n",
    "3. Find analytical solution for coefficients and compare with those from `LinearRegression`."
   ]
  },
  {
   "cell_type": "markdown",
   "id": "485e8b0d",
   "metadata": {},
   "source": [
    "## 1. What loss function is used by `LinearRegression`?"
   ]
  },
  {
   "cell_type": "markdown",
   "id": "9ebec503",
   "metadata": {},
   "source": [
    "The `LinearRegression` class only supports the mean-squared error loss function. According to the documentation,\n",
    "\n",
    "> `LinearRegression` fits a linear model with coefficients w = (w1, …, wp) to minimize the residual sum of squares between the observed targets in the dataset, and the targets predicted by the linear approximation.\n",
    "\n",
    "It can, however, fit a linear model without an intercept ($\\theta_0 = 0$, in our formulation) or with only nonnegative coefficients ($\\theta_i \\ge 0$, all $i$)."
   ]
  },
  {
   "cell_type": "markdown",
   "id": "28366813",
   "metadata": {},
   "source": [
    "## 2. What optimization method is used by `LinearRegression`?"
   ]
  },
  {
   "cell_type": "markdown",
   "id": "3c1d5c91",
   "metadata": {},
   "source": [
    "This was a little trickier to track down. Looking at the [source code](https://github.com/scikit-learn/scikit-learn/blob/7f9bad99d/sklearn/linear_model/_base.py#L534) for `LinearRegression`, it uses `scipy.linalg.lstsq` normally. If nonnegative coefficients are required, then it uses `scipy.optimize.nnls`. If the data is given as a sparse array, then it uses `scipy.sparse.linalg.lsqr`.\n",
    "\n",
    "The `scipy.linalg.lstsq` function uses one of three LAPACK functions internally: `gelsd` (default), `gelsy`, or `gelss`. The `gelss` method uses the singular value decomposition of the coefficient matrix $A$ to solve $Ax = b$. The `gelsy` method uses an orthogonal factorization method. The `gelsd` method also uses singular value decomposition, but computes it in a (presumably) faster way than `gelss`."
   ]
  },
  {
   "cell_type": "code",
   "execution_count": null,
   "id": "671b0a5d",
   "metadata": {},
   "outputs": [],
   "source": []
  }
 ],
 "metadata": {
  "kernelspec": {
   "display_name": "Python 3 (ipykernel)",
   "language": "python",
   "name": "python3"
  },
  "language_info": {
   "codemirror_mode": {
    "name": "ipython",
    "version": 3
   },
   "file_extension": ".py",
   "mimetype": "text/x-python",
   "name": "python",
   "nbconvert_exporter": "python",
   "pygments_lexer": "ipython3",
   "version": "3.9.13"
  }
 },
 "nbformat": 4,
 "nbformat_minor": 5
}
