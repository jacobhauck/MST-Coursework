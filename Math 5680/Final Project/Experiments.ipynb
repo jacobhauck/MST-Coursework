{
 "cells": [
  {
   "cell_type": "markdown",
   "metadata": {},
   "source": [
    "# Math 5680 Final Project -- Experiments"
   ]
  },
  {
   "cell_type": "markdown",
   "metadata": {},
   "source": [
    "## Simple Dataset"
   ]
  },
  {
   "cell_type": "markdown",
   "metadata": {},
   "source": [
    "Choose a folder in which to save the experiment results."
   ]
  },
  {
   "cell_type": "code",
   "execution_count": 1,
   "metadata": {},
   "outputs": [],
   "source": [
    "MODEL_DATABASE = 'model5'"
   ]
  },
  {
   "cell_type": "markdown",
   "metadata": {},
   "source": [
    "Create the experiment object."
   ]
  },
  {
   "cell_type": "code",
   "execution_count": 2,
   "metadata": {},
   "outputs": [],
   "source": [
    "from experiments import simple\n",
    "\n",
    "simple_exp = simple.SimpleDatasetExperiment(MODEL_DATABASE)"
   ]
  },
  {
   "cell_type": "markdown",
   "metadata": {},
   "source": [
    "Run training."
   ]
  },
  {
   "cell_type": "code",
   "execution_count": null,
   "metadata": {},
   "outputs": [],
   "source": [
    "simple_exp.run_training()"
   ]
  },
  {
   "cell_type": "markdown",
   "metadata": {},
   "source": [
    "Run evaluation."
   ]
  },
  {
   "cell_type": "code",
   "execution_count": 3,
   "metadata": {},
   "outputs": [
    {
     "data": {
      "application/vnd.jupyter.widget-view+json": {
       "model_id": "c77a1d34829a40878d483278d59a88db",
       "version_major": 2,
       "version_minor": 0
      },
      "text/plain": [
       "  0%|          | 0/10000 [00:00<?, ?batches/s]"
      ]
     },
     "metadata": {},
     "output_type": "display_data"
    },
    {
     "name": "stdout",
     "output_type": "stream",
     "text": [
      "Test accuracy: 7.09\n",
      "Test accuracy (first): 100.00\n"
     ]
    }
   ],
   "source": [
    "simple_exp.run_evaluation(6)"
   ]
  },
  {
   "cell_type": "markdown",
   "metadata": {},
   "source": [
    "## Easy Arithmetic"
   ]
  },
  {
   "cell_type": "markdown",
   "metadata": {},
   "source": [
    "Choose a folder in which to save the experiment results."
   ]
  },
  {
   "cell_type": "code",
   "execution_count": 1,
   "metadata": {},
   "outputs": [],
   "source": [
    "MODEL_DATABASE = 'model4'"
   ]
  },
  {
   "cell_type": "markdown",
   "metadata": {},
   "source": [
    "Create the experiment object."
   ]
  },
  {
   "cell_type": "code",
   "execution_count": 2,
   "metadata": {},
   "outputs": [],
   "source": [
    "from experiments import arithmetic_easy\n",
    "\n",
    "ar_easy_exp = arithmetic_easy.ArithmeticEasyExperiment(MODEL_DATABASE)"
   ]
  },
  {
   "cell_type": "markdown",
   "metadata": {},
   "source": [
    "Count number of parameters. Note that the original transformer model (which was also used by Saxton *et al.* on the math dataset) had ~30 million parameters."
   ]
  },
  {
   "cell_type": "code",
   "execution_count": null,
   "metadata": {},
   "outputs": [],
   "source": [
    "sum(p.numel() for p in ar_easy_exp.model.parameters() if p.requires_grad)"
   ]
  },
  {
   "cell_type": "markdown",
   "metadata": {},
   "source": [
    "Run training."
   ]
  },
  {
   "cell_type": "code",
   "execution_count": null,
   "metadata": {},
   "outputs": [],
   "source": [
    "ar_easy_exp.run_training()"
   ]
  },
  {
   "cell_type": "markdown",
   "metadata": {},
   "source": [
    "Run evaluation."
   ]
  },
  {
   "cell_type": "code",
   "execution_count": 4,
   "metadata": {},
   "outputs": [
    {
     "data": {
      "application/vnd.jupyter.widget-view+json": {
       "model_id": "7b6ee4452eaa469b95c16138cbd1e4cc",
       "version_major": 2,
       "version_minor": 0
      },
      "text/plain": [
       "  0%|          | 0/599999 [00:00<?, ?batches/s]"
      ]
     },
     "metadata": {},
     "output_type": "display_data"
    },
    {
     "name": "stdout",
     "output_type": "stream",
     "text": [
      "Test accuracy: 40.46%\n",
      "Test accuracy (first): 76.35%\n"
     ]
    }
   ],
   "source": [
    "ar_easy_exp.run_evaluation(40)"
   ]
  },
  {
   "cell_type": "markdown",
   "metadata": {},
   "source": [
    "Try evaluating on the provided testing data, which contains an assortment of easy, medium and hard questions."
   ]
  },
  {
   "cell_type": "code",
   "execution_count": 4,
   "metadata": {},
   "outputs": [
    {
     "data": {
      "application/vnd.jupyter.widget-view+json": {
       "model_id": "8492939d307a4506b549f41489bb89b6",
       "version_major": 2,
       "version_minor": 0
      },
      "text/plain": [
       "  0%|          | 0/90000 [00:00<?, ?batches/s]"
      ]
     },
     "metadata": {},
     "output_type": "display_data"
    },
    {
     "name": "stdout",
     "output_type": "stream",
     "text": [
      "Test accuracy: 7.96%\n",
      "Test accuracy (first): 10.40%\n"
     ]
    }
   ],
   "source": [
    "import torch\n",
    "from math_dataset import MathDataset\n",
    "\n",
    "# Load all arithmetic questions\n",
    "test_subcats = MathDataset.subcategories()['interpolate']['arithmetic']\n",
    "datasets = [MathDataset('interpolate', 'arithmetic', s) for s in test_subcats]\n",
    "test_dl = torch.utils.data.ConcatDataset(datasets)\n",
    "\n",
    "# Load model weights\n",
    "ar_easy_exp.trainer.load(40)\n",
    "\n",
    "# Define an evaluation function to measure accuracy and first-token accuracy\n",
    "n_total = 0\n",
    "n_correct = 0\n",
    "n_first_correct = 0\n",
    "\n",
    "\n",
    "def evaluate(model_answer, actual_answer):\n",
    "    global n_total, n_correct, n_first_correct\n",
    "\n",
    "    n_total += 1\n",
    "\n",
    "    if model_answer == actual_answer:\n",
    "        n_correct += 1\n",
    "\n",
    "    first = min(len(model_answer), len(actual_answer))\n",
    "    if model_answer[:first] == actual_answer[:first]:\n",
    "        n_first_correct += 1\n",
    "\n",
    "\n",
    "# Run evaluation\n",
    "ar_easy_exp.trainer.evaluate(test_dl, evaluate)\n",
    "\n",
    "# Print results\n",
    "print(f'Test accuracy: {n_correct / n_total * 100:.02f}%')\n",
    "print(f'Test accuracy (first): {n_first_correct / n_total * 100:.02f}%')"
   ]
  },
  {
   "cell_type": "markdown",
   "metadata": {},
   "source": [
    "View some sample questions and compare true and model responses."
   ]
  },
  {
   "cell_type": "code",
   "execution_count": 5,
   "metadata": {},
   "outputs": [],
   "source": [
    "sample_dl = torch.utils.data.DataLoader(ar_easy_exp.test_dataset, batch_size=64, shuffle=True)\n",
    "sample_it = iter(sample_dl)"
   ]
  },
  {
   "cell_type": "code",
   "execution_count": 6,
   "metadata": {},
   "outputs": [
    {
     "name": "stdout",
     "output_type": "stream",
     "text": [
      "Q: What is 4672 - -654?\n",
      "A: 5326\n",
      "M: 5\n",
      "\n",
      "Q: Simplify (sqrt(19) + (sqrt(171)*-2 - sqrt(171)))*-6.\n",
      "A: 48*sqrt(19)\n",
      "M: -126*sqrt(19)\n",
      "\n",
      "Q: Divide -8 by -9.\n",
      "A: 8/9\n",
      "M: 8\n",
      "\n",
      "Q: What is 2 + (2 - 3) + (-3 - -3)?\n",
      "A: 1\n",
      "M: 1\n",
      "\n",
      "Q: In base 12, what is 1387 - -5?\n",
      "A: 1390\n",
      "M: 1\n",
      "\n",
      "Q: Evaluate (22/8 + -3)/((-2)/2).\n",
      "A: 1/4\n",
      "M: -1/4\n",
      "\n",
      "Q: Divide -6734 by -1.\n",
      "A: 6734\n",
      "M: 6\n",
      "\n",
      "Q: Divide -1 by 4459.\n",
      "A: -1/4459\n",
      "M: -1/14\n",
      "\n",
      "Q: Work out 5 * -0.015.\n",
      "A: -0.075\n",
      "M: -0.\n",
      "\n",
      "Q: What is the square root of 21120 to the nearest integer?\n",
      "A: 145\n",
      "M: 145\n",
      "\n",
      "Q: What is -3739 - -3?\n",
      "A: -3736\n",
      "M: -3\n",
      "\n",
      "Q: In base 5, what is 1132 + 1414?\n",
      "A: 3101\n",
      "M: 3\n",
      "\n",
      "Q: What is the value of (-273)/(-182)*(-1)/(-6)*1?\n",
      "A: 1/4\n",
      "M: 1/4\n",
      "\n",
      "Q: Calculate -4 divided by 297.\n",
      "A: -4/297\n",
      "M: -4/\n",
      "\n",
      "Q: In base 6, what is -13 - 0?\n",
      "A: -13\n",
      "M: -13\n",
      "\n",
      "Q: What is the product of -7.144 and 0.5?\n",
      "A: -3.572\n",
      "M: -3.\n",
      "\n",
      "Q: (-1)/5 - 1089/(-2420)\n",
      "A: 1/4\n",
      "M: 1/4\n",
      "\n",
      "Q: Simplify -4 + (sqrt(95)/sqrt(5) + -1 + sqrt(19) - sqrt(171)*-4).\n",
      "A: -5 + 14*sqrt(19)\n",
      "M: -5 sqrt(19)\n",
      "\n",
      "Q: What is -36 divided by 10?\n",
      "A: -18/5\n",
      "M: -15/\n",
      "\n",
      "Q: Subtract 803 from -2.17.\n",
      "A: -805.17\n",
      "M: -805.\n",
      "\n",
      "Q: What is the value of ((0 - -1) + 0 - -3) + -6?\n",
      "A: -2\n",
      "M: -2\n",
      "\n",
      "Q: What is -5 divided by -191?\n",
      "A: 5/191\n",
      "M: 5/\n",
      "\n",
      "Q: -34.33*0.2\n",
      "A: -6.866\n",
      "M: -6.\n",
      "\n",
      "Q: Simplify ((0 + sqrt(7))*-2 + (sqrt(7) - (sqrt(7) + 6*sqrt(28))))**2 + (-1*sqrt(112) - (sqrt(49)/(sqrt(14)/sqrt(2)) - sqrt(7)))**2.\n",
      "A: 1484\n",
      "M: -sqrt(7)\n",
      "\n",
      "Q: Work out -0.074 * 23.\n",
      "A: -1.702\n",
      "M: -1.\n",
      "\n",
      "Q: 4 divided by 80\n",
      "A: 1/20\n",
      "M: 1/\n",
      "\n",
      "Q: Calculate 30/(-12)*(-8)/20.\n",
      "A: 1\n",
      "M: 1\n",
      "\n",
      "Q: 1 divided by -434\n",
      "A: -1/434\n",
      "M: -1/\n",
      "\n",
      "Q: What is 11520 divided by 5?\n",
      "A: 2304\n",
      "M: 2\n",
      "\n",
      "Q: Work out -8.73 + -0.2.\n",
      "A: -8.93\n",
      "M: -8.\n",
      "\n",
      "Q: What is the value of (-2)/(-4*(-3)/24)?\n",
      "A: -4\n",
      "M: -4\n",
      "\n",
      "Q: What is the seventh root of 7429 to the nearest integer?\n",
      "A: 4\n",
      "M: 4\n",
      "\n",
      "Q: What is 1 divided by 299?\n",
      "A: 1/299\n",
      "M: 1/\n",
      "\n",
      "Q: In base 15, what is 5c + -4?\n",
      "A: 58\n",
      "M: 58\n",
      "\n",
      "Q: In base 13, what is 0 - -99?\n",
      "A: 99\n",
      "M: 99\n",
      "\n",
      "Q: In base 15, what is -7d - -2?\n",
      "A: -7b\n",
      "M: -7b\n",
      "\n",
      "Q: What is the third root of 111516 to the nearest integer?\n",
      "A: 48\n",
      "M: 48\n",
      "\n",
      "Q: Evaluate 0 + (-1 - (-7 + 3)).\n",
      "A: 3\n",
      "M: 3\n",
      "\n",
      "Q: Calculate 537 divided by 179.\n",
      "A: 3\n",
      "M: 3\n",
      "\n",
      "Q: Evaluate (-16)/10*-9*18/(-648).\n",
      "A: -2/5\n",
      "M: -2/5\n",
      "\n",
      "Q: 3 + 0 + -16 + 15\n",
      "A: 2\n",
      "M: 2\n",
      "\n",
      "Q: Evaluate 1 - 3 - (-67 - -67).\n",
      "A: -2\n",
      "M: -2\n",
      "\n",
      "Q: Simplify 0 + ((-2 + sqrt(153))**2*3 - sqrt(153)).\n",
      "A: -39*sqrt(17) + 471\n",
      "M: -459*sqrt(17) /2\n",
      "\n",
      "Q: What is the cube root of 8563 to the nearest integer?\n",
      "A: 20\n",
      "M: 20\n",
      "\n",
      "Q: What is the fifth root of 5833 to the nearest integer?\n",
      "A: 6\n",
      "M: 6\n",
      "\n",
      "Q: 1.41*5\n",
      "A: 7.05\n",
      "M: 7.\n",
      "\n",
      "Q: Evaluate 3 + (6 - (-1 - -5)).\n",
      "A: 5\n",
      "M: 5\n",
      "\n",
      "Q: Calculate -230 divided by -2.\n",
      "A: 115\n",
      "M: 11\n",
      "\n",
      "Q: What is the value of (-168)/(-44) - 14/(-77)?\n",
      "A: 4\n",
      "M: 4\n",
      "\n",
      "Q: What is 5657 to the power of 1/2, to the nearest integer?\n",
      "A: 75\n",
      "M: 75\n",
      "\n",
      "Q: Divide 385 by -77.\n",
      "A: -5\n",
      "M: -/\n",
      "\n",
      "Q: Calculate ((-1)/7)/(-1*1/(-1)).\n",
      "A: -1/7\n",
      "M: -1/7\n",
      "\n",
      "Q: What is -14 divided by 36?\n",
      "A: -7/18\n",
      "M: -1/\n",
      "\n",
      "Q: Calculate 34/(-17) + 66/30.\n",
      "A: 1/5\n",
      "M: 3/5\n",
      "\n",
      "Q: Calculate -1 - (-1 + -3 - -7).\n",
      "A: -4\n",
      "M: -2\n",
      "\n",
      "Q: -10 - 386480\n",
      "A: -386490\n",
      "M: -38\n",
      "\n",
      "Q: Simplify -3*2*-1*(0 + sqrt(13) + -4).\n",
      "A: -24 + 6*sqrt(13)\n",
      "M: -24*sqrt(13)\n",
      "\n",
      "Q: Divide -372 by -81.\n",
      "A: 124/27\n",
      "M: 5\n",
      "\n",
      "Q: -550*-0.5\n",
      "A: 275\n",
      "M: 25\n",
      "\n",
      "Q: What is the square root of 6165 to the nearest integer?\n",
      "A: 79\n",
      "M: 79\n",
      "\n",
      "Q: What is 2621 - 43.8?\n",
      "A: 2577.2\n",
      "M: 257\n",
      "\n",
      "Q: What is the cube root of 2302 to the nearest integer?\n",
      "A: 13\n",
      "M: 13\n",
      "\n",
      "Q: In base 13, what is -14 + -6?\n",
      "A: -1a\n",
      "M: -1a\n",
      "\n",
      "Q: What is the product of 0.04 and -0.28?\n",
      "A: -0.0112\n",
      "M: -0.\n",
      "\n"
     ]
    }
   ],
   "source": [
    "questions, answers = next(sample_it)\n",
    "\n",
    "ar_easy_exp.model.eval()\n",
    "with torch.no_grad():\n",
    "    for q, a in zip(questions, answers):\n",
    "        model_a = ar_easy_exp.model(q)\n",
    "        print(f'Q: {q}')\n",
    "        print(f'A: {a}')\n",
    "        print(f'M: {model_a}')\n",
    "        print()"
   ]
  },
  {
   "cell_type": "markdown",
   "metadata": {},
   "source": [
    "Test counting ability."
   ]
  },
  {
   "cell_type": "code",
   "execution_count": 8,
   "metadata": {},
   "outputs": [
    {
     "name": "stdout",
     "output_type": "stream",
     "text": [
      "Q: What is 1?\n",
      "A: 1\n",
      "M: 1\n",
      "\n",
      "Q: What is 1 + 1?\n",
      "A: 2\n",
      "M: 2\n",
      "\n",
      "Q: What is 1 + 1 + 1?\n",
      "A: 3\n",
      "M: 3\n",
      "\n",
      "Q: What is 1 + 1 + 1 + 1?\n",
      "A: 4\n",
      "M: 4\n",
      "\n",
      "Q: What is 1 + 1 + 1 + 1 + 1?\n",
      "A: 5\n",
      "M: 6\n",
      "\n",
      "Q: What is 1 + 1 + 1 + 1 + 1 + 1?\n",
      "A: 6\n",
      "M: 5\n",
      "\n",
      "Q: What is 1 + 1 + 1 + 1 + 1 + 1 + 1?\n",
      "A: 7\n",
      "M: 5\n",
      "\n",
      "Q: What is 1 + 1 + 1 + 1 + 1 + 1 + 1 + 1?\n",
      "A: 8\n",
      "M: 115555555555555555555555555555\n",
      "\n",
      "Q: What is 1 + 1 + 1 + 1 + 1 + 1 + 1 + 1 + 1?\n",
      "A: 9\n",
      "M: 555555555555555555555555555555\n",
      "\n",
      "Q: What is 1 + 1 + 1 + 1 + 1 + 1 + 1 + 1 + 1 + 1?\n",
      "A: 10\n",
      "M: 115355555555555555555555555555\n",
      "\n"
     ]
    }
   ],
   "source": [
    "ar_easy_exp.model.eval()\n",
    "\n",
    "with torch.no_grad():\n",
    "    for i in range(1, 11):\n",
    "        q = 'What is ' + ('1 + ' * i)[:-3] + '?'\n",
    "        print(f'Q: {q}')\n",
    "        print(f'A: {i}')\n",
    "        print(f'M: {ar_easy_exp.model(q)}')\n",
    "        print()"
   ]
  }
 ],
 "metadata": {
  "kernelspec": {
   "display_name": "Python 3",
   "language": "python",
   "name": "python3"
  },
  "language_info": {
   "codemirror_mode": {
    "name": "ipython",
    "version": 3
   },
   "file_extension": ".py",
   "mimetype": "text/x-python",
   "name": "python",
   "nbconvert_exporter": "python",
   "pygments_lexer": "ipython3",
   "version": "3.11.4"
  }
 },
 "nbformat": 4,
 "nbformat_minor": 2
}
