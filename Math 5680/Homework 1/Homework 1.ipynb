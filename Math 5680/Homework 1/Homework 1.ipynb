{
 "cells": [
  {
   "cell_type": "markdown",
   "id": "f81d2f02-8f59-47c5-8c91-68bf14e930f8",
   "metadata": {},
   "source": [
    "# Homework 1 -- Python Demo"
   ]
  },
  {
   "cell_type": "markdown",
   "id": "dd87f9a1-e2a2-42be-85ed-f03bce7554fd",
   "metadata": {},
   "source": [
    "## 1. One Simulation"
   ]
  },
  {
   "cell_type": "markdown",
   "id": "67c8be83-34bc-469b-abe0-7c00d9435929",
   "metadata": {},
   "source": [
    "Generate two random points in $[0,1]^2$ and measure the distance between them. Visualize the two points and distance in a plot."
   ]
  },
  {
   "cell_type": "code",
   "execution_count": 1,
   "id": "32ad52f0-eb8f-47f3-97c0-ecd71b53df97",
   "metadata": {},
   "outputs": [
    {
     "data": {
      "image/png": "[encoded data removed]",
      "text/plain": [
       "<Figure size 640x480 with 1 Axes>"
      ]
     },
     "metadata": {},
     "output_type": "display_data"
    },
    {
     "name": "stdout",
     "output_type": "stream",
     "text": [
      "Some random points in [0, 1]^2 ([[x0, y0], [x1, y1]] format):\n",
      "[[0.19556041 0.45221128]\n",
      " [0.06961892 0.84121469]]\n",
      "\n",
      "Distance between point 0 and point 1 = 0.41\n"
     ]
    }
   ],
   "source": [
    "import numpy as np\n",
    "import matplotlib.pyplot as plt\n",
    "\n",
    "p = np.random.random((2, 2))\n",
    "\n",
    "_, ax = plt.subplots()\n",
    "ax.set_xlim(0, 1)\n",
    "ax.set_ylim(0, 1)\n",
    "ax.set_aspect(1.0)\n",
    "ax.plot(p[:, 0], p[:, 1], c='black', zorder=0)\n",
    "ax.scatter(p[:, 0], p[:, 1], zorder=1)\n",
    "for i in range(2):\n",
    "    ax.annotate(i, p[i] + (0, .02))\n",
    "plt.show()\n",
    "\n",
    "print('Some random points in [0, 1]^2 ([[x0, y0], [x1, y1]] format):')\n",
    "print(p)\n",
    "print()\n",
    "\n",
    "d = np.linalg.norm(p[0] - p[1])\n",
    "print(f'Distance between point 0 and point 1 = {d:.02g}')"
   ]
  },
  {
   "cell_type": "markdown",
   "id": "cab199e1-33ba-4119-bbfa-cfc1674d08e6",
   "metadata": {},
   "source": [
    "## 2. Many Simulations, Averaged"
   ]
  },
  {
   "cell_type": "markdown",
   "id": "69591e3e-463d-4417-9e3b-4cc482ab5307",
   "metadata": {},
   "source": [
    "Create a function that generates $n$ pairs of points in $[0,1]^2$, then computes the average distance between points in each pair."
   ]
  },
  {
   "cell_type": "code",
   "execution_count": 2,
   "id": "1e7868f5-b3db-4a02-a907-81e67ecbd63f",
   "metadata": {},
   "outputs": [],
   "source": [
    "def average_distance(n):\n",
    "    points = np.random.random((2, n, 2))\n",
    "    dists = np.linalg.norm(points[0] - points[1], axis=-1)\n",
    "    return np.mean(dists)"
   ]
  },
  {
   "cell_type": "markdown",
   "id": "7835afa4-6f5e-48fa-a1bf-80e01e23b7f1",
   "metadata": {},
   "source": [
    "Compute the average distance between $n = 10$ pairs of points several times to get a feel for how much variation is in the result. Then compute the standard deviation of $1000$ trials of this to quantify how much variation there is."
   ]
  },
  {
   "cell_type": "code",
   "execution_count": 3,
   "id": "cea8b815-8f04-437c-8732-2c79d59f1530",
   "metadata": {},
   "outputs": [
    {
     "name": "stdout",
     "output_type": "stream",
     "text": [
      "Sample average distances\n",
      "Trial 1: 0.51201\n",
      "Trial 2: 0.55479\n",
      "Trial 3: 0.55803\n",
      "Trial 4: 0.48931\n",
      "Trial 5: 0.51548\n",
      "Trial 6: 0.53464\n",
      "Trial 7: 0.43219\n",
      "Trial 8: 0.47154\n",
      "\n",
      "Standard deviation across 1000 trials: 0.08\n"
     ]
    }
   ],
   "source": [
    "def test_variation(n, samples, trials):\n",
    "    print('Sample average distances')\n",
    "    for i in range(samples):\n",
    "        print(f'Trial {i + 1}: {average_distance(n):.05f}')\n",
    "    print()\n",
    "    \n",
    "    print(f'Standard deviation across 1000 trials: {np.std([average_distance(n) for _ in range(trials)]):.01g}')\n",
    "\n",
    "test_variation(10, 8, 1000)"
   ]
  },
  {
   "cell_type": "markdown",
   "id": "9f3ff77f-91e0-467e-86f5-00e63b33b7ba",
   "metadata": {},
   "source": [
    "Now try the same experiment with $n=100$ and $n=1000$."
   ]
  },
  {
   "cell_type": "code",
   "execution_count": 4,
   "id": "25c0cd41-b4f4-4649-93d7-fca252b7027b",
   "metadata": {},
   "outputs": [
    {
     "name": "stdout",
     "output_type": "stream",
     "text": [
      "n = 100\n",
      "Sample average distances\n",
      "Trial 1: 0.56495\n",
      "Trial 2: 0.46651\n",
      "Trial 3: 0.52361\n",
      "Trial 4: 0.50967\n",
      "Trial 5: 0.49594\n",
      "Trial 6: 0.51951\n",
      "Trial 7: 0.55515\n",
      "Trial 8: 0.54241\n",
      "\n",
      "Standard deviation across 1000 trials: 0.02\n",
      "n = 1000\n",
      "Sample average distances\n",
      "Trial 1: 0.52634\n",
      "Trial 2: 0.53565\n",
      "Trial 3: 0.53661\n",
      "Trial 4: 0.51945\n",
      "Trial 5: 0.53126\n",
      "Trial 6: 0.53681\n",
      "Trial 7: 0.52760\n",
      "Trial 8: 0.51629\n",
      "\n",
      "Standard deviation across 1000 trials: 0.008\n"
     ]
    }
   ],
   "source": [
    "print('n = 100')\n",
    "test_variation(100, 8, 1000)\n",
    "\n",
    "print('n = 1000')\n",
    "test_variation(1000, 8, 1000)"
   ]
  },
  {
   "cell_type": "markdown",
   "id": "6342893e-c608-4311-8b85-2b1766a5b99f",
   "metadata": {},
   "source": [
    "As the Law of Large Numbers suggests, the variation decreases as we increase the sample size."
   ]
  },
  {
   "cell_type": "markdown",
   "id": "4fee963f-4ab5-4e51-ba1a-f288450f9fa6",
   "metadata": {},
   "source": [
    "## 3. Using Arrays"
   ]
  },
  {
   "cell_type": "markdown",
   "id": "61c29a8f-e175-4dff-ba5b-0f290cd0c5b1",
   "metadata": {},
   "source": [
    "By accepting an arbitrary array size instead of a number, we can vectorize `average_distance` to perform the tests from the previous section more quickly (maybe)."
   ]
  },
  {
   "cell_type": "code",
   "execution_count": 5,
   "id": "41a95e19-7a1b-4bf8-9862-31d2c63d8f97",
   "metadata": {},
   "outputs": [
    {
     "name": "stdout",
     "output_type": "stream",
     "text": [
      "n = 10\n",
      "Sample average distances\n",
      "Trial 1: 0.44547\n",
      "Trial 2: 0.52630\n",
      "Trial 3: 0.72581\n",
      "Trial 4: 0.37355\n",
      "Trial 5: 0.49284\n",
      "Trial 6: 0.54051\n",
      "Trial 7: 0.55550\n",
      "Trial 8: 0.48913\n",
      "\n",
      "Standard deviation across 1000 trials: 0.08\n",
      "\n",
      "n = 100\n",
      "Sample average distances\n",
      "Trial 1: 0.49222\n",
      "Trial 2: 0.54244\n",
      "Trial 3: 0.54764\n",
      "Trial 4: 0.49708\n",
      "Trial 5: 0.51651\n",
      "Trial 6: 0.52239\n",
      "Trial 7: 0.52928\n",
      "Trial 8: 0.53479\n",
      "\n",
      "Standard deviation across 1000 trials: 0.02\n",
      "\n",
      "n = 1000\n",
      "Sample average distances\n",
      "Trial 1: 0.53920\n",
      "Trial 2: 0.50981\n",
      "Trial 3: 0.51943\n",
      "Trial 4: 0.50955\n",
      "Trial 5: 0.51972\n",
      "Trial 6: 0.52090\n",
      "Trial 7: 0.52576\n",
      "Trial 8: 0.52101\n",
      "\n",
      "Standard deviation across 1000 trials: 0.008\n",
      "\n"
     ]
    }
   ],
   "source": [
    "def fast_average_distance(size, axis=-1):\n",
    "    points = np.random.random((2, *size, 2))\n",
    "    dists = np.linalg.norm(points[0] - points[1], axis=-1)\n",
    "    return np.mean(dists, axis=axis)\n",
    "\n",
    "\n",
    "def fast_test_variation(n, samples, trials):\n",
    "    print('Sample average distances')\n",
    "    for i, dist in enumerate(fast_average_distance((samples, n))):\n",
    "        print(f'Trial {i + 1}: {dist:.05f}')\n",
    "    print()\n",
    "    \n",
    "    print(f'Standard deviation across 1000 trials: {np.std(fast_average_distance((trials, n))):.01g}')\n",
    "\n",
    "for n in (10, 100, 1000):\n",
    "    print(f'n = {n}')\n",
    "    fast_test_variation(n, 8, 1000)\n",
    "    print()"
   ]
  },
  {
   "cell_type": "markdown",
   "id": "c188ede8-8d01-4779-87a1-4c93442041fe",
   "metadata": {},
   "source": [
    "## 4. Timing Comparison"
   ]
  },
  {
   "cell_type": "markdown",
   "id": "bae498d4-a341-4000-a5b5-47cc7af3435f",
   "metadata": {},
   "source": [
    "First, create a pure Python version of `average_distance` that will (hopefully) be really slow for large values of $n$."
   ]
  },
  {
   "cell_type": "code",
   "execution_count": 6,
   "id": "f20d5c99-3070-4e2f-a316-1fdb24d87f2a",
   "metadata": {},
   "outputs": [],
   "source": [
    "import random\n",
    "\n",
    "def super_slow_average_distance(n):\n",
    "    s = 0\n",
    "    \n",
    "    for _ in range(n):\n",
    "        p0x, p0y, p1x, p1y = [random.random() for __ in range(4)]\n",
    "        s += ((p0x - p1x) ** 2 + (p0y - p1y) ** 2) ** .5\n",
    "    \n",
    "    return s / n"
   ]
  },
  {
   "cell_type": "markdown",
   "id": "4aadb374-97d8-4bf7-956f-793ec722fec2",
   "metadata": {},
   "source": [
    "Second, compare `super_slow_average_distance` to `fast_average_distance` for various values of $n$. The `timeit` function times how long it takes to run a given function a given number of times. I choose the number of times so that the total amount of computation is roughly the same for each value of $n$."
   ]
  },
  {
   "cell_type": "code",
   "execution_count": 7,
   "id": "68592ce2-984c-4cc5-b62d-9ed6819bd13c",
   "metadata": {},
   "outputs": [
    {
     "name": "stdout",
     "output_type": "stream",
     "text": [
      "n = 10\n",
      "Time for super slow method: 0.54s\n",
      "Time for fast method: 0.61\n",
      "\n",
      "n = 100\n",
      "Time for super slow method: 0.48s\n",
      "Time for fast method: 0.08\n",
      "\n",
      "n = 1000\n",
      "Time for super slow method: 0.56s\n",
      "Time for fast method: 0.03\n",
      "\n",
      "n = 10000\n",
      "Time for super slow method: 0.50s\n",
      "Time for fast method: 0.02\n",
      "\n",
      "n = 100000\n",
      "Time for super slow method: 0.50s\n",
      "Time for fast method: 0.03\n",
      "\n",
      "n = 1000000\n",
      "Time for super slow method: 0.49s\n",
      "Time for fast method: 0.03\n",
      "\n"
     ]
    }
   ],
   "source": [
    "from timeit import timeit\n",
    "\n",
    "for logn in range(1, 7):\n",
    "    n = 10 ** logn\n",
    "    time_number = int(10 ** (6 - logn))\n",
    "    print(f'n = {n}')\n",
    "    print(f'Time for super slow method: {timeit(lambda: super_slow_average_distance(n), number=time_number):.02f}s')\n",
    "    print(f'Time for fast method: {timeit(lambda: fast_average_distance((n,)), number=time_number):.02f}')\n",
    "    print()"
   ]
  },
  {
   "cell_type": "markdown",
   "id": "b26b5b61-3c51-4705-81f7-cccf17221f21",
   "metadata": {},
   "source": [
    "For me, the fast method is, indeed, much faster, but __only for__ $n\\ge 100$. Furthermore, the relative performance increase improves as $n$ gets larger (up to a point). Although array functions are faster when large arrays are involved, they are actually *slower* when small arrays are involved because there is an overhead for Python to interface with the native code that handles NumPy arrays."
   ]
  },
  {
   "cell_type": "markdown",
   "id": "16a141fc-42da-44c9-bce1-46cb5efc4356",
   "metadata": {},
   "source": [
    "## 5. A Convergence Table"
   ]
  },
  {
   "cell_type": "markdown",
   "id": "3bdbf52a-aef1-4261-8b26-c1cbcf134df6",
   "metadata": {},
   "source": [
    "Compute sample averages for successively larger values of $n$, comparing the current average to the previous to get an idea of how quickly the estimate of the true average distance converges as $n \\to \\infty$."
   ]
  },
  {
   "cell_type": "code",
   "execution_count": 8,
   "id": "09dcce55-c1ce-4562-b214-e539956dee45",
   "metadata": {},
   "outputs": [
    {
     "name": "stdout",
     "output_type": "stream",
     "text": [
      "n = 10. Current average: 0.38407, delta: 0.38407\n",
      "n = 100. Current average: 0.51885, delta: 0.13477\n",
      "n = 1000. Current average: 0.51253, delta: 0.00632\n",
      "n = 10000. Current average: 0.52204, delta: 0.00951\n",
      "n = 100000. Current average: 0.52143, delta: 0.00061\n",
      "n = 1000000. Current average: 0.52121, delta: 0.00022\n"
     ]
    }
   ],
   "source": [
    "last_average_distance = 0\n",
    "for logn in range(1, 7):\n",
    "    n = 10 ** logn\n",
    "    current_average_distance = average_distance(n)\n",
    "    print(f'n = {n}. Current average: {current_average_distance:.05f}, delta: {abs(current_average_distance - last_average_distance):.05f}')\n",
    "    \n",
    "    last_average_distance = current_average_distance"
   ]
  },
  {
   "cell_type": "markdown",
   "id": "0aedba41-4aa7-421c-a610-c0e7b0f9cd6c",
   "metadata": {},
   "source": [
    "## 6. Creating a Histogram"
   ]
  },
  {
   "cell_type": "markdown",
   "id": "df269883-d844-488f-8eed-620a3b26f7b5",
   "metadata": {},
   "source": [
    "Create a histogram of a sample of $n = 10000$ distances."
   ]
  },
  {
   "cell_type": "code",
   "execution_count": 9,
   "id": "6139c26d-4005-4cd1-95d3-87e8eb061c4d",
   "metadata": {},
   "outputs": [
    {
     "data": {
      "image/png": "[encoded data removed]",
      "text/plain": [
       "<Figure size 640x480 with 1 Axes>"
      ]
     },
     "metadata": {},
     "output_type": "display_data"
    }
   ],
   "source": [
    "points = np.random.random((2, 10000, 2))\n",
    "dists = np.linalg.norm(points[0] - points[1], axis=-1)\n",
    "\n",
    "_, ax = plt.subplots()\n",
    "ax.hist(dists, bins=20, rwidth=0.95, density=True)\n",
    "plt.show()"
   ]
  },
  {
   "cell_type": "markdown",
   "id": "ac164309-5d29-43c5-a87d-3de27a1faaf0",
   "metadata": {},
   "source": [
    "## 7. Histogram Versus PDF"
   ]
  },
  {
   "cell_type": "markdown",
   "id": "a9e7b7b1-9700-47b0-a323-a39fb60f7edc",
   "metadata": {},
   "source": [
    "Since the PDF of the distance is known explicitly for this problem, we can compare it with the histogram of the distances."
   ]
  },
  {
   "cell_type": "code",
   "execution_count": 10,
   "id": "ccf04caf-394b-4006-99d3-c379f0b96366",
   "metadata": {},
   "outputs": [
    {
     "data": {
      "image/png": "[encoded data removed]",
      "text/plain": [
       "<Figure size 640x480 with 1 Axes>"
      ]
     },
     "metadata": {},
     "output_type": "display_data"
    }
   ],
   "source": [
    "points = np.random.random((2, 10000, 2))\n",
    "dists = np.linalg.norm(points[0] - points[1], axis=-1)\n",
    "\n",
    "def pdf(distances):\n",
    "    p = np.empty_like(distances)\n",
    "    \n",
    "    le1 = (distances <= 1)\n",
    "    d = distances[le1]\n",
    "    p[le1] = 2 * d * (d ** 2 - 4 * d + np.pi)\n",
    "\n",
    "    gt1 = (distances > 1)\n",
    "    d = distances[gt1]\n",
    "    p[gt1] = 2 * d * (4 * np.sqrt(d ** 2 - 1) - (d ** 2 + 2 - np.pi) - 4 * np.arctan(np.sqrt(d ** 2 - 1)))\n",
    "    \n",
    "    return p\n",
    "\n",
    "_, ax = plt.subplots()\n",
    "ax.hist(dists, bins=20, rwidth=0.95, density=True, label='Histogram')\n",
    "\n",
    "distance_samples = np.linspace(0, np.max(dists), 1000)\n",
    "ax.plot(distance_samples, pdf(distance_samples), label='PDF')\n",
    "\n",
    "ax.legend()\n",
    "plt.show()"
   ]
  }
 ],
 "metadata": {
  "kernelspec": {
   "display_name": "Python 3 (ipykernel)",
   "language": "python",
   "name": "python3"
  },
  "language_info": {
   "codemirror_mode": {
    "name": "ipython",
    "version": 3
   },
   "file_extension": ".py",
   "mimetype": "text/x-python",
   "name": "python",
   "nbconvert_exporter": "python",
   "pygments_lexer": "ipython3",
   "version": "3.11.4"
  }
 },
 "nbformat": 4,
 "nbformat_minor": 5
}
