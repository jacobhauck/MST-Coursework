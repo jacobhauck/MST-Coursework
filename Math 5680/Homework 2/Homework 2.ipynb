{
 "cells": [
  {
   "cell_type": "markdown",
   "metadata": {},
   "source": [
    "# Math 5680 Homework 2"
   ]
  },
  {
   "cell_type": "markdown",
   "metadata": {},
   "source": [
    "## Problem 1."
   ]
  },
  {
   "cell_type": "markdown",
   "metadata": {},
   "source": [
    "Load the data."
   ]
  },
  {
   "cell_type": "code",
   "execution_count": 185,
   "metadata": {},
   "outputs": [],
   "source": [
    "import pandas\n",
    "df = pandas.read_csv('Advertising.csv')"
   ]
  },
  {
   "cell_type": "markdown",
   "metadata": {},
   "source": [
    "Construct the data matrix and label vector as a NumPy arrays."
   ]
  },
  {
   "cell_type": "code",
   "execution_count": 186,
   "metadata": {},
   "outputs": [],
   "source": [
    "import numpy as np\n",
    "data_matrix = np.concatenate([np.ones((len(df), 1)), df[['TV', 'radio', 'newspaper']]], axis=1)\n",
    "label_vector = df['sales']"
   ]
  },
  {
   "cell_type": "markdown",
   "metadata": {},
   "source": [
    "Writing the normal equation $X^TX\\theta = X^Ty$, where $X$ is the data matrix, and $y$ is the label vector, we see that solving the normal equation for $\\theta$ is the same as solving $A\\theta = b$, where $A = X^TX$, and $b = X^Ty$. In order to use a numerical solver for $A\\theta = b$, then, we need to compute $A$ and $b$."
   ]
  },
  {
   "cell_type": "code",
   "execution_count": 187,
   "metadata": {},
   "outputs": [],
   "source": [
    "a_matrix = data_matrix.transpose() @ data_matrix\n",
    "b_vector = data_matrix.transpose() @ label_vector"
   ]
  },
  {
   "cell_type": "markdown",
   "metadata": {},
   "source": [
    "Now use `numpy.linalg.solve` to solve $A\\theta = b$ numerically."
   ]
  },
  {
   "cell_type": "code",
   "execution_count": 188,
   "metadata": {},
   "outputs": [],
   "source": [
    "normal_theta = np.linalg.solve(a_matrix, b_vector)"
   ]
  },
  {
   "cell_type": "markdown",
   "metadata": {},
   "source": [
    "Now let's calculate $\\theta$ using Scikit-Learn and compare."
   ]
  },
  {
   "cell_type": "code",
   "execution_count": 189,
   "metadata": {},
   "outputs": [],
   "source": [
    "from sklearn.linear_model import LinearRegression\n",
    "\n",
    "model = LinearRegression().fit(df[['TV', 'radio', 'newspaper']], label_vector)\n",
    "sk_theta = np.concatenate([[model.intercept_], model.coef_])\n"
   ]
  },
  {
   "cell_type": "markdown",
   "metadata": {},
   "source": [
    "Comparing the two $\\theta$ values, we see that they are nearly the same, as expected."
   ]
  },
  {
   "cell_type": "code",
   "execution_count": 190,
   "metadata": {},
   "outputs": [
    {
     "name": "stdout",
     "output_type": "stream",
     "text": [
      "Normal equations theta = [ 2.93888937e+00  4.57646455e-02  1.88530017e-01 -1.03749304e-03]\n",
      "Scikit-Learn theta = [ 2.93888937e+00  4.57646455e-02  1.88530017e-01 -1.03749304e-03]\n",
      "thetas are close? True\n"
     ]
    }
   ],
   "source": [
    "print(f'Normal equations theta = {normal_theta}')\n",
    "print(f'Scikit-Learn theta = {sk_theta}')\n",
    "print(f'thetas are close? {np.allclose(normal_theta, sk_theta)}')"
   ]
  },
  {
   "cell_type": "markdown",
   "metadata": {},
   "source": [
    "## Problem 2."
   ]
  },
  {
   "cell_type": "markdown",
   "metadata": {},
   "source": [
    "Load the data (in case you don't have it already from Problem 1.)."
   ]
  },
  {
   "cell_type": "code",
   "execution_count": 191,
   "metadata": {},
   "outputs": [],
   "source": [
    "import pandas\n",
    "df = pandas.read_csv('Advertising.csv')\n",
    "features = df[['TV', 'radio', 'newspaper']]\n",
    "labels = df[['sales']]"
   ]
  },
  {
   "cell_type": "markdown",
   "metadata": {},
   "source": [
    "### (1) Feature scaling"
   ]
  },
  {
   "cell_type": "code",
   "execution_count": 192,
   "metadata": {},
   "outputs": [],
   "source": [
    "from sklearn.preprocessing import MinMaxScaler\n",
    "\n",
    "scaler = MinMaxScaler().fit(features)\n",
    "scaled_features = scaler.transform(features)"
   ]
  },
  {
   "cell_type": "markdown",
   "metadata": {},
   "source": [
    "### (2) Creating training and testing split"
   ]
  },
  {
   "cell_type": "code",
   "execution_count": 193,
   "metadata": {},
   "outputs": [],
   "source": [
    "from sklearn.model_selection import train_test_split\n",
    "\n",
    "test_features, train_features, test_labels, train_labels = train_test_split(\n",
    "    scaled_features, labels,\n",
    "    test_size=.8, train_size=.2, random_state=5680\n",
    ")"
   ]
  },
  {
   "cell_type": "markdown",
   "metadata": {},
   "source": [
    "### (3) Linear regression"
   ]
  },
  {
   "cell_type": "markdown",
   "metadata": {},
   "source": [
    "Train a linear model on the training data."
   ]
  },
  {
   "cell_type": "code",
   "execution_count": 194,
   "metadata": {},
   "outputs": [],
   "source": [
    "from sklearn.linear_model import LinearRegression\n",
    "\n",
    "# remember that TV, sales, newspaper are indices 1, 2, 3 and sales is index 4\n",
    "linear_model = LinearRegression().fit(train_features, train_labels)"
   ]
  },
  {
   "cell_type": "markdown",
   "metadata": {},
   "source": [
    "Now compute the $R^2$ scores on the training and testing data."
   ]
  },
  {
   "cell_type": "code",
   "execution_count": 195,
   "metadata": {},
   "outputs": [
    {
     "name": "stdout",
     "output_type": "stream",
     "text": [
      "Training R^2 = 0.9005\n",
      "Testing R^2 = 0.8744\n"
     ]
    }
   ],
   "source": [
    "print(f'Training R^2 = {linear_model.score(train_features, train_labels):.04g}')\n",
    "print(f'Testing R^2 = {linear_model.score(test_features, test_labels):.04g}')"
   ]
  },
  {
   "cell_type": "markdown",
   "metadata": {},
   "source": [
    "After running these cells a few times, I noticed that the training $R^2$ is generally higher than the testing $R^2$ (but not always). I suspect that this is due to the fact that the model fits in part to the noise in the training data, which is independent of the noise in the testing data, leading to a poorer fit on the testing data than on the training data.\n",
    "\n",
    "Running the regression on 1000 different training-testing splits reveals that around 77% of splits lead to a better training score than testing score on this dataset, and that the average training $R^2$ is greater than the average testing $R^2$, but only by a little."
   ]
  },
  {
   "cell_type": "code",
   "execution_count": 196,
   "metadata": {},
   "outputs": [
    {
     "name": "stdout",
     "output_type": "stream",
     "text": [
      "% training R^2 > testing R^2 75.9\n",
      "Average training R^2 = 0.9046\n",
      "Average testing R^2 = 0.878\n"
     ]
    }
   ],
   "source": [
    "def random_r2_scores(reg):\n",
    "    # generate a random training and testing split and calculate R^2 on training and testing data\n",
    "    test_x, train_x, test_y, train_y = train_test_split(features, labels, train_size=0.8, test_size=0.2)\n",
    "    model = reg().fit(train_x, train_y)\n",
    "    \n",
    "    return model.score(train_x, train_y), model.score(test_x, test_y)\n",
    "\n",
    "scores = np.array([random_r2_scores(LinearRegression) for _ in range(1000)])\n",
    "print(f'% training R^2 > testing R^2 {100 * np.mean(scores[:, 0] > scores[:, 1])}')\n",
    "print(f'Average training R^2 = {np.mean(scores[:, 0]):.04g}')\n",
    "print(f'Average testing R^2 = {np.mean(scores[:, 1]):.04g}')"
   ]
  },
  {
   "cell_type": "markdown",
   "metadata": {},
   "source": [
    "### (4) Ridge regression"
   ]
  },
  {
   "cell_type": "markdown",
   "metadata": {},
   "source": [
    "Fit a ridge regression model to the same training and testing split from before."
   ]
  },
  {
   "cell_type": "code",
   "execution_count": 197,
   "metadata": {},
   "outputs": [],
   "source": [
    "from sklearn.linear_model import Ridge\n",
    "\n",
    "ridge_model = Ridge(alpha=1.).fit(train_features, train_labels)"
   ]
  },
  {
   "cell_type": "markdown",
   "metadata": {},
   "source": [
    "Compare $R^2$ scores for training and testing data."
   ]
  },
  {
   "cell_type": "code",
   "execution_count": 198,
   "metadata": {},
   "outputs": [
    {
     "name": "stdout",
     "output_type": "stream",
     "text": [
      "Training R^2 = 0.8968\n",
      "Testing R^2 = 0.877\n"
     ]
    }
   ],
   "source": [
    "print(f'Training R^2 = {ridge_model.score(train_features, train_labels):.04g}')\n",
    "print(f'Testing R^2 = {ridge_model.score(test_features, test_labels):.04g}')"
   ]
  },
  {
   "cell_type": "markdown",
   "metadata": {},
   "source": [
    "The training $R^2$ is still higher for this split. Let's see how they compare for different values of $\\alpha$."
   ]
  },
  {
   "cell_type": "code",
   "execution_count": 199,
   "metadata": {},
   "outputs": [
    {
     "data": {
      "image/png": "[encoded data removed]",
      "text/plain": [
       "<Figure size 640x480 with 1 Axes>"
      ]
     },
     "metadata": {},
     "output_type": "display_data"
    }
   ],
   "source": [
    "import matplotlib.pyplot as plt\n",
    "\n",
    "alphas = np.logspace(-3, 3, 50)\n",
    "train_r2s, test_r2s = [], []\n",
    "for alpha in alphas:\n",
    "    ridge_model_alpha = Ridge(alpha=alpha).fit(train_features, train_labels)\n",
    "    \n",
    "    train_r2s.append(ridge_model_alpha.score(train_features, train_labels))\n",
    "    test_r2s.append(ridge_model_alpha.score(test_features, test_labels))\n",
    "\n",
    "_, ax = plt.subplots()\n",
    "\n",
    "ax.plot(alphas, train_r2s, label='Training R^2')\n",
    "ax.plot(alphas, test_r2s, label='Testing R^2', c='orange')\n",
    "\n",
    "ax.set_xlabel('alpha')\n",
    "ax.set_ylabel('R^2')\n",
    "ax.set_xscale('log')\n",
    "ax.legend()\n",
    "\n",
    "plt.show()"
   ]
  },
  {
   "cell_type": "markdown",
   "metadata": {},
   "source": [
    "Evidently, the testing data $R^2$ is always lower, but the gap varies as $\\alpha$ gets larger, initially decreasing almost to 0. The performance of the model in terms of $R^2$ also drops as $\\alpha$ gets larger (because $\\theta$ is being driven towards 0 as $\\alpha \\to \\infty$).\n",
    "\n",
    "Zooming in on the testing $R^2$ values, we see that the best value of $\\alpha$ is around 0.85."
   ]
  },
  {
   "cell_type": "code",
   "execution_count": 200,
   "metadata": {},
   "outputs": [
    {
     "data": {
      "image/png": "[encoded data removed]",
      "text/plain": [
       "<Figure size 640x480 with 1 Axes>"
      ]
     },
     "metadata": {},
     "output_type": "display_data"
    },
    {
     "name": "stdout",
     "output_type": "stream",
     "text": [
      "Best alpha = 0.8685, R^2 = 0.8771\n"
     ]
    }
   ],
   "source": [
    "i_best_alpha = np.argmax(test_r2s)\n",
    "best_alpha = alphas[np.argmax(test_r2s)]\n",
    "\n",
    "_, ax = plt.subplots()\n",
    "\n",
    "ax.plot(alphas[15:30], test_r2s[15:30], label='Testing R^2', c='orange', zorder=0)\n",
    "ax.scatter([best_alpha], [test_r2s[i_best_alpha]], c='red', zorder=1)\n",
    "ax.annotate(f'{best_alpha:.03g}', [best_alpha + .1, test_r2s[i_best_alpha]])\n",
    "ax.set_xlabel('alpha')\n",
    "ax.set_ylabel('R^2')\n",
    "ax.set_xscale('log')\n",
    "ax.legend()\n",
    "\n",
    "plt.show()\n",
    "\n",
    "print(f'Best alpha = {best_alpha:.04g}, R^2 = {test_r2s[i_best_alpha]:.04g}')"
   ]
  },
  {
   "cell_type": "markdown",
   "metadata": {},
   "source": [
    "This is actually *slightly* better than the $R^2$ obtained using the linear regression without regularization. Let's run 1000 regressions with this $\\alpha$ and see how often the testing data $R^2$ is better than the training data $R^2$, and what the average $R^2$ values are."
   ]
  },
  {
   "cell_type": "code",
   "execution_count": 201,
   "metadata": {},
   "outputs": [
    {
     "name": "stdout",
     "output_type": "stream",
     "text": [
      "% training R^2 > testing R^2 78.5\n",
      "Average training R^2 = 0.9069\n",
      "Average testing R^2 = 0.8774\n"
     ]
    }
   ],
   "source": [
    "scores = np.array([random_r2_scores(lambda: Ridge(alpha=best_alpha)) for _ in range(1000)])\n",
    "print(f'% training R^2 > testing R^2 {100 * np.mean(scores[:, 0] > scores[:, 1])}')\n",
    "print(f'Average training R^2 = {np.mean(scores[:, 0]):.04g}')\n",
    "print(f'Average testing R^2 = {np.mean(scores[:, 1]):.04g}')"
   ]
  },
  {
   "cell_type": "markdown",
   "metadata": {},
   "source": [
    "It looks not much different from the linear regression case."
   ]
  },
  {
   "cell_type": "markdown",
   "metadata": {},
   "source": [
    "### (5) Lasso regression"
   ]
  },
  {
   "cell_type": "markdown",
   "metadata": {},
   "source": [
    "Fit a Lasso regression model to the same training and testing split from before."
   ]
  },
  {
   "cell_type": "code",
   "execution_count": 202,
   "metadata": {},
   "outputs": [],
   "source": [
    "from sklearn.linear_model import Lasso\n",
    "\n",
    "lasso_model = Lasso(alpha=1.).fit(train_features, train_labels)"
   ]
  },
  {
   "cell_type": "markdown",
   "metadata": {},
   "source": [
    "Compare $R^2$ scores for training and testing data."
   ]
  },
  {
   "cell_type": "code",
   "execution_count": 203,
   "metadata": {},
   "outputs": [
    {
     "name": "stdout",
     "output_type": "stream",
     "text": [
      "Training R^2 = 0.2021\n",
      "Testing R^2 = 0.2132\n"
     ]
    }
   ],
   "source": [
    "print(f'Training R^2 = {lasso_model.score(train_features, train_labels):.04g}')\n",
    "print(f'Testing R^2 = {lasso_model.score(test_features, test_labels):.04g}')"
   ]
  },
  {
   "cell_type": "markdown",
   "metadata": {},
   "source": [
    "The $R^2$ scores are much lower than before, but the testing $R^2$ is actually a little higher than the training $R^2$. Let's look at the learned coefficients."
   ]
  },
  {
   "cell_type": "code",
   "execution_count": 204,
   "metadata": {},
   "outputs": [
    {
     "data": {
      "text/plain": [
       "array([2.61420926, 0.        , 0.        ])"
      ]
     },
     "execution_count": 204,
     "metadata": {},
     "output_type": "execute_result"
    }
   ],
   "source": [
    "lasso_model.coef_"
   ]
  },
  {
   "cell_type": "markdown",
   "metadata": {},
   "source": [
    "All but one coefficients are 0, so the Lasso model selected the most important features, as expected. If we run the regression and compute $R^2$ scores for many values of $\\alpha$, we see that the $R^2$ scores are roughly independent of $\\alpha$ except for a sharp drop from scores similar to what we had in the case of linear regression down to very low scores, which occurs near $\\alpha = 1$. We also see that the number of coefficients that are not close to zero decreases as $\\alpha$ increases, dropping from 2 to zero also around $\\alpha = 1$."
   ]
  },
  {
   "cell_type": "code",
   "execution_count": 208,
   "metadata": {},
   "outputs": [
    {
     "data": {
      "image/png": "[encoded data removed]",
      "text/plain": [
       "<Figure size 640x480 with 2 Axes>"
      ]
     },
     "metadata": {},
     "output_type": "display_data"
    }
   ],
   "source": [
    "alphas = np.logspace(-3, 3, 50)\n",
    "train_r2s, test_r2s, nonzero = [], [], []\n",
    "for alpha in alphas:\n",
    "    lasso_model_alpha = Lasso(alpha=alpha).fit(train_features, train_labels)\n",
    "    \n",
    "    train_r2s.append(lasso_model_alpha.score(train_features, train_labels))\n",
    "    test_r2s.append(lasso_model_alpha.score(test_features, test_labels))\n",
    "    nonzero.append(np.count_nonzero(np.bitwise_not(np.isclose(lasso_model_alpha.coef_, 0))))\n",
    "\n",
    "_, ax = plt.subplots()\n",
    "\n",
    "ax.plot(alphas, train_r2s, label='Training R^2')\n",
    "ax.plot(alphas, test_r2s, label='Testing R^2', c='orange')\n",
    "\n",
    "ax.set_xlabel('alpha')\n",
    "ax.set_ylabel('R^2')\n",
    "ax.set_xscale('log')\n",
    "\n",
    "ax_nonzero = ax.twinx()\n",
    "width = np.diff(alphas)\n",
    "width = np.concatenate([width, [width[-1]]])\n",
    "ax_nonzero.bar(alphas, nonzero, width=width, align='edge', facecolor='limegreen', label='# nonzero coef')\n",
    "ax_nonzero.set_yticks([0, 1, 2, 3])\n",
    "ax_nonzero.set_ylabel('# nonzero coef')\n",
    "\n",
    "ax.set_zorder(ax_nonzero.get_zorder() + 1)\n",
    "ax.set_frame_on(False)\n",
    "\n",
    "ax_objs, ax_labels = ax.get_legend_handles_labels()\n",
    "ax_nz_objs, ax_nz_labels = ax_nonzero.get_legend_handles_labels()\n",
    "ax_nonzero.legend(ax_objs + ax_nz_objs, ax_labels + ax_nz_labels)\n",
    "\n",
    "plt.show()"
   ]
  }
 ],
 "metadata": {
  "kernelspec": {
   "display_name": "Python 3",
   "language": "python",
   "name": "python3"
  },
  "language_info": {
   "codemirror_mode": {
    "name": "ipython",
    "version": 3
   },
   "file_extension": ".py",
   "mimetype": "text/x-python",
   "name": "python",
   "nbconvert_exporter": "python",
   "pygments_lexer": "ipython3",
   "version": "3.11.4"
  },
  "orig_nbformat": 4
 },
 "nbformat": 4,
 "nbformat_minor": 2
}
