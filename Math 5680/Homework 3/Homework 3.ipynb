{
 "cells": [
  {
   "cell_type": "markdown",
   "metadata": {},
   "source": [
    "# Homework 3"
   ]
  },
  {
   "cell_type": "markdown",
   "metadata": {},
   "source": [
    "## Problem 1"
   ]
  },
  {
   "cell_type": "markdown",
   "metadata": {},
   "source": [
    "Read the data."
   ]
  },
  {
   "cell_type": "code",
   "execution_count": 1,
   "metadata": {},
   "outputs": [],
   "source": [
    "import pandas as pd\n",
    "\n",
    "df = pd.read_csv('caesarian_data.txt', delimiter=' ', names=('age', 'num', 'tim', 'pre', 'hrt', 'cae'))"
   ]
  },
  {
   "cell_type": "markdown",
   "metadata": {},
   "source": [
    "Get relevant arrays, normalize them, and split into testing and training data."
   ]
  },
  {
   "cell_type": "code",
   "execution_count": 205,
   "metadata": {},
   "outputs": [],
   "source": [
    "from sklearn.preprocessing import MinMaxScaler\n",
    "from sklearn.model_selection import train_test_split\n",
    "\n",
    "y = df['cae']\n",
    "x = MinMaxScaler().fit_transform(df[['age', 'num', 'hrt']])\n",
    "\n",
    "x_train, x_test, y_train, y_test = train_test_split(x, y, train_size=0.8)"
   ]
  },
  {
   "cell_type": "markdown",
   "metadata": {},
   "source": [
    "### (a)"
   ]
  },
  {
   "cell_type": "markdown",
   "metadata": {},
   "source": [
    "Do logistic regression (using the training split) on `age`, `num` and `hrt` to predict `cae`."
   ]
  },
  {
   "cell_type": "code",
   "execution_count": 206,
   "metadata": {},
   "outputs": [
    {
     "name": "stdout",
     "output_type": "stream",
     "text": [
      "Model parameters: theta_age = 0.19, theta_num = 0.714, theta_hrt = 1.26, theta_0 = -0.51\n"
     ]
    }
   ],
   "source": [
    "from sklearn.linear_model import LogisticRegression\n",
    "\n",
    "model = LogisticRegression(penalty='l2', C=1.).fit(x_train, y_train)\n",
    "print(\n",
    "    f'Model parameters: '\n",
    "    f'theta_age = {model.coef_[0, 0]:.03g}, '\n",
    "    f'theta_num = {model.coef_[0, 1]:.03g}, '\n",
    "    f'theta_hrt = {model.coef_[0, 2]:.03g}, '\n",
    "    f'theta_0 = {model.intercept_[0]:.03g}'\n",
    ")"
   ]
  },
  {
   "cell_type": "markdown",
   "metadata": {},
   "source": [
    "### (b)"
   ]
  },
  {
   "cell_type": "markdown",
   "metadata": {},
   "source": [
    "Calculate confusion matrix and accuracy for both training and testing splits."
   ]
  },
  {
   "cell_type": "code",
   "execution_count": 207,
   "metadata": {},
   "outputs": [
    {
     "name": "stdout",
     "output_type": "stream",
     "text": [
      "Metrics for split train\n",
      "Confusion matrix\n",
      "[[23  6]\n",
      " [12 23]]\n",
      "Accuracy\n",
      "71.9%\n",
      "\n",
      "Metrics for split test\n",
      "Confusion matrix\n",
      "[[4 1]\n",
      " [6 5]]\n",
      "Accuracy\n",
      "56.2%\n",
      "\n"
     ]
    }
   ],
   "source": [
    "from sklearn.metrics import confusion_matrix, accuracy_score\n",
    "\n",
    "for x_split, y_split, split in [(x_train, y_train, 'train'), (x_test, y_test, 'test')]:\n",
    "    print(f'Metrics for split {split}')\n",
    "    print('Confusion matrix')\n",
    "    y_split_pred = model.predict(x_split)\n",
    "    print(confusion_matrix(y_split, y_split_pred))\n",
    "    print('Accuracy')\n",
    "    print(f'{100 * accuracy_score(y_split, y_split_pred):.01f}%')\n",
    "    print()"
   ]
  },
  {
   "cell_type": "markdown",
   "metadata": {},
   "source": [
    "### (c)"
   ]
  },
  {
   "cell_type": "markdown",
   "metadata": {},
   "source": [
    "Abstract the above code for training."
   ]
  },
  {
   "cell_type": "code",
   "execution_count": 231,
   "metadata": {},
   "outputs": [],
   "source": [
    "class TestLogisticRegression:\n",
    "    def __init__(self, x, y, l2_coef):\n",
    "        self.x_train, self.x_test, self.y_train, self.y_test = train_test_split(x, y, train_size=0.8)\n",
    "        self.model = LogisticRegression(penalty='l2', C=l2_coef).fit(self.x_train, self.y_train)\n",
    "        self.y_train_pred = self.model.predict(self.x_train)\n",
    "        self.y_test_pred = self.model.predict(self.x_test)\n",
    "    \n",
    "    def metric(self, split, metric):\n",
    "        if split == 'train':\n",
    "            return metric(self.y_train, self.y_train_pred)\n",
    "        else:\n",
    "            return metric(self.y_test, self.y_test_pred)"
   ]
  },
  {
   "cell_type": "markdown",
   "metadata": {},
   "source": [
    "Now we can run many regressions with different coefficients on the regularization term."
   ]
  },
  {
   "cell_type": "code",
   "execution_count": 239,
   "metadata": {},
   "outputs": [
    {
     "name": "stdout",
     "output_type": "stream",
     "text": [
      "Finished                 \n"
     ]
    }
   ],
   "source": [
    "import numpy as np\n",
    "\n",
    "coefs = np.exp(np.linspace(-4, 5, 50))\n",
    "avg_train_accuracies, avg_test_accuracies = [], []\n",
    "num_splits = 200\n",
    "\n",
    "for i, l2_coef in enumerate(coefs):\n",
    "    total_train_acc, total_test_acc = 0, 0\n",
    "    \n",
    "    for _ in range(num_splits):\n",
    "        test = TestLogisticRegression(x, y, l2_coef)\n",
    "        total_train_acc += test.metric('train', accuracy_score)\n",
    "        total_test_acc += test.metric('test', accuracy_score)\n",
    "\n",
    "    avg_train_accuracies.append(total_train_acc / num_splits)\n",
    "    avg_test_accuracies.append(total_test_acc / num_splits)\n",
    "    print(f'Progress: {(i + 1) / len(coefs) * 100:.01f}%     ', end='\\r')\n",
    "print('Finished                 ')"
   ]
  },
  {
   "cell_type": "markdown",
   "metadata": {},
   "source": [
    "Now let's see how the average train and test accuracies depend on the penalty coefficients."
   ]
  },
  {
   "cell_type": "code",
   "execution_count": 240,
   "metadata": {},
   "outputs": [
    {
     "data": {
      "image/png": "[encoded data removed]",
      "text/plain": [
       "<Figure size 640x480 with 1 Axes>"
      ]
     },
     "metadata": {},
     "output_type": "display_data"
    }
   ],
   "source": [
    "import matplotlib.pyplot as plt\n",
    "\n",
    "_, ax = plt.subplots()\n",
    "ax.set_xscale('log')\n",
    "ax.plot(coefs, avg_train_accuracies, label='Train')\n",
    "ax.plot(coefs, avg_test_accuracies, label='Test')\n",
    "\n",
    "ax.set_xlabel('l2_coef')\n",
    "ax.set_ylabel('% accuracy')\n",
    "ax.legend()\n",
    "\n",
    "plt.show()"
   ]
  },
  {
   "cell_type": "markdown",
   "metadata": {},
   "source": [
    "Noting that the lower $\\small\\verb*|l2_coef|$ means a stronger regularization (because `sklearn` uses $\\frac{1}{\\small\\verb*|l2_coef|}$ as the coefficient of the regularization term), we see that the regularization degrades the accuracy of the model if it is too strong (the downward trend in accuracy as $\\small\\verb*|l2_coef| \\to 0$) and has no effect if it is too weak (accuracy flattens out as $\\small\\verb*|l2_coef|\\to \\infty$). \n",
    "\n",
    "There does seem to be a value of $\\small\\verb*|l2_coef|$ a little less than $10^1$ for which the test accuracy is maximal, but only greater than the accuracy with no regularization (that is, the accuracy as $\\small\\verb*|l2_coef|\\to\\infty$).\n",
    "\n",
    "The training accuracy, on the other hand, seems to only increase as the regularization is reduced.\n",
    "\n",
    "Lastly, there is strong drop in accuaracy when $\\small\\verb*|l2_coef|$ drops below $\\sim 10^0$."
   ]
  },
  {
   "cell_type": "markdown",
   "metadata": {},
   "source": [
    "### (d)"
   ]
  },
  {
   "cell_type": "markdown",
   "metadata": {},
   "source": [
    "Set the classification threshold to 0.6 on our original model, and see how the perfmance changes. First, recall the previous result."
   ]
  },
  {
   "cell_type": "code",
   "execution_count": 241,
   "metadata": {},
   "outputs": [
    {
     "name": "stdout",
     "output_type": "stream",
     "text": [
      "Metrics for split train\n",
      "Confusion matrix\n",
      "[[23  6]\n",
      " [12 23]]\n",
      "Accuracy\n",
      "71.9%\n",
      "\n",
      "Metrics for split test\n",
      "Confusion matrix\n",
      "[[4 1]\n",
      " [6 5]]\n",
      "Accuracy\n",
      "56.2%\n",
      "\n"
     ]
    }
   ],
   "source": [
    "for x_split, y_split, split in [(x_train, y_train, 'train'), (x_test, y_test, 'test')]:\n",
    "    print(f'Metrics for split {split}')\n",
    "    print('Confusion matrix')\n",
    "    y_split_pred = model.predict(x_split)\n",
    "    print(confusion_matrix(y_split, y_split_pred))\n",
    "    print('Accuracy')\n",
    "    print(f'{100 * accuracy_score(y_split, y_split_pred):.01f}%')\n",
    "    print()"
   ]
  },
  {
   "cell_type": "markdown",
   "metadata": {},
   "source": [
    "Now raise the threshold to 0.6 and see what we get."
   ]
  },
  {
   "cell_type": "code",
   "execution_count": 246,
   "metadata": {},
   "outputs": [
    {
     "name": "stdout",
     "output_type": "stream",
     "text": [
      "Metrics for split train\n",
      "Confusion matrix\n",
      "[[24  5]\n",
      " [16 19]]\n",
      "Accuracy\n",
      "67.2%\n",
      "\n",
      "Metrics for split test\n",
      "Confusion matrix\n",
      "[[4 1]\n",
      " [6 5]]\n",
      "Accuracy\n",
      "56.2%\n",
      "\n"
     ]
    }
   ],
   "source": [
    "for x_split, y_split, split in [(x_train, y_train, 'train'), (x_test, y_test, 'test')]:\n",
    "    print(f'Metrics for split {split}')\n",
    "    print('Confusion matrix')\n",
    "    y_split_pred = (model.predict_proba(x_split)[:, 1] > 0.6).astype(int)\n",
    "    print(confusion_matrix(y_split, y_split_pred))\n",
    "    print('Accuracy')\n",
    "    print(f'{100 * accuracy_score(y_split, y_split_pred):.01f}%')\n",
    "    print()"
   ]
  },
  {
   "cell_type": "markdown",
   "metadata": {},
   "source": [
    "The accuracy decreased, but the number of false positives (top right entry of the confusion matrix) also decreased, as did the number of true positives (bottom right entry of confusion matrix)."
   ]
  },
  {
   "cell_type": "markdown",
   "metadata": {},
   "source": [
    "## Problem 2"
   ]
  },
  {
   "cell_type": "markdown",
   "metadata": {},
   "source": [
    "Load the data, get the needed features, normalize, and create training and testing splits."
   ]
  },
  {
   "cell_type": "code",
   "execution_count": 286,
   "metadata": {},
   "outputs": [],
   "source": [
    "df = pd.read_csv('iris.csv')\n",
    "\n",
    "species_index = {species: index for index, species in enumerate(np.unique(df['species']))}\n",
    "y2 = df['species'].apply(lambda species: species_index[species])\n",
    "x2 = df[['petal_length', 'petal_width']]\n",
    "\n",
    "x_train2, x_test2, y_train2, y_test2 = train_test_split(x2, y2, train_size=.8)"
   ]
  },
  {
   "cell_type": "markdown",
   "metadata": {},
   "source": [
    "### (a) and (b)"
   ]
  },
  {
   "cell_type": "markdown",
   "metadata": {},
   "source": [
    "Create the models"
   ]
  },
  {
   "cell_type": "code",
   "execution_count": 287,
   "metadata": {},
   "outputs": [],
   "source": [
    "one_vs_rest_model = LogisticRegression(multi_class='ovr').fit(x_train2, y_train2)\n",
    "softmax_model = LogisticRegression(multi_class='multinomial').fit(x_train2, y_train2)"
   ]
  },
  {
   "cell_type": "markdown",
   "metadata": {},
   "source": [
    "Display accuracy and confusion matrices for train and test splits for each model."
   ]
  },
  {
   "cell_type": "code",
   "execution_count": 288,
   "metadata": {},
   "outputs": [
    {
     "name": "stdout",
     "output_type": "stream",
     "text": [
      "-----------------------------------------\n",
      "\n",
      "Metrics for model type One vs. Rest\n",
      "Metrics for split train\n",
      "Confusion matrix\n",
      "[[37  0  0]\n",
      " [ 0 39  3]\n",
      " [ 0  1 40]]\n",
      "Accuracy\n",
      "96.7%\n",
      "\n",
      "Metrics for split test\n",
      "Confusion matrix\n",
      "[[13  0  0]\n",
      " [ 0  8  0]\n",
      " [ 0  0  9]]\n",
      "Accuracy\n",
      "100.0%\n",
      "\n",
      "-----------------------------------------\n",
      "\n",
      "Metrics for model type Softmax\n",
      "Metrics for split train\n",
      "Confusion matrix\n",
      "[[37  0  0]\n",
      " [ 0 39  3]\n",
      " [ 0  2 39]]\n",
      "Accuracy\n",
      "95.8%\n",
      "\n",
      "Metrics for split test\n",
      "Confusion matrix\n",
      "[[13  0  0]\n",
      " [ 0  8  0]\n",
      " [ 0  0  9]]\n",
      "Accuracy\n",
      "100.0%\n",
      "\n",
      "-----------------------------------------\n",
      "\n"
     ]
    }
   ],
   "source": [
    "print('-----------------------------------------\\n')\n",
    "for test_model, test_model_type in ((one_vs_rest_model, 'One vs. Rest'), (softmax_model, 'Softmax')):\n",
    "    print(f'Metrics for model type {test_model_type}')\n",
    "    for x_split, y_split, split in [(x_train2, y_train2, 'train'), (x_test2, y_test2, 'test')]:\n",
    "        print(f'Metrics for split {split}')\n",
    "        print('Confusion matrix')\n",
    "        y_split_pred = test_model.predict(x_split)\n",
    "        print(confusion_matrix(y_split, y_split_pred))\n",
    "        print('Accuracy')\n",
    "        print(f'{100 * accuracy_score(y_split, y_split_pred):.01f}%')\n",
    "        print()\n",
    "    print('-----------------------------------------\\n')"
   ]
  },
  {
   "cell_type": "markdown",
   "metadata": {},
   "source": [
    "### (c)"
   ]
  },
  {
   "cell_type": "markdown",
   "metadata": {},
   "source": [
    "If I run the above code several times, I notice that the accuracy and confusion matrices for the one-versus-the-rest and softmax models are very similar, and generally in the accuracy range 90-97% for both train and test data, with training data being slightly favored."
   ]
  }
 ],
 "metadata": {
  "kernelspec": {
   "display_name": "Python 3",
   "language": "python",
   "name": "python3"
  },
  "language_info": {
   "codemirror_mode": {
    "name": "ipython",
    "version": 3
   },
   "file_extension": ".py",
   "mimetype": "text/x-python",
   "name": "python",
   "nbconvert_exporter": "python",
   "pygments_lexer": "ipython3",
   "version": "3.11.4"
  },
  "orig_nbformat": 4
 },
 "nbformat": 4,
 "nbformat_minor": 2
}
